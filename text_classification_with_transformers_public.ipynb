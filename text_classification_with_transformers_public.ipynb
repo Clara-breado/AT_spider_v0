{
  "nbformat": 4,
  "nbformat_minor": 0,
  "metadata": {
    "colab": {
      "name": "text-classification-with-transformers-public.ipynb",
      "provenance": [],
      "collapsed_sections": [],
      "machine_shape": "hm",
      "include_colab_link": true
    },
    "kernelspec": {
      "display_name": "Python 3",
      "name": "python3"
    },
    "language_info": {
      "name": "python"
    },
    "accelerator": "GPU",
    "widgets": {
      "application/vnd.jupyter.widget-state+json": {
        "62474b7246984f9987955b42b2b37508": {
          "model_module": "@jupyter-widgets/controls",
          "model_name": "HBoxModel",
          "model_module_version": "1.5.0",
          "state": {
            "_view_name": "HBoxView",
            "_dom_classes": [],
            "_model_name": "HBoxModel",
            "_view_module": "@jupyter-widgets/controls",
            "_model_module_version": "1.5.0",
            "_view_count": null,
            "_view_module_version": "1.5.0",
            "box_style": "",
            "layout": "IPY_MODEL_733ffce0dd3a4c80bbf7ef5fac336e0d",
            "_model_module": "@jupyter-widgets/controls",
            "children": [
              "IPY_MODEL_3a880db9400b4bf1ada19e5ed587095a",
              "IPY_MODEL_010024156ac24270bc4093d524f3d297",
              "IPY_MODEL_354120bff066446fa534eeda78be8f14"
            ]
          }
        },
        "733ffce0dd3a4c80bbf7ef5fac336e0d": {
          "model_module": "@jupyter-widgets/base",
          "model_name": "LayoutModel",
          "model_module_version": "1.2.0",
          "state": {
            "_view_name": "LayoutView",
            "grid_template_rows": null,
            "right": null,
            "justify_content": null,
            "_view_module": "@jupyter-widgets/base",
            "overflow": null,
            "_model_module_version": "1.2.0",
            "_view_count": null,
            "flex_flow": null,
            "width": null,
            "min_width": null,
            "border": null,
            "align_items": null,
            "bottom": null,
            "_model_module": "@jupyter-widgets/base",
            "top": null,
            "grid_column": null,
            "overflow_y": null,
            "overflow_x": null,
            "grid_auto_flow": null,
            "grid_area": null,
            "grid_template_columns": null,
            "flex": null,
            "_model_name": "LayoutModel",
            "justify_items": null,
            "grid_row": null,
            "max_height": null,
            "align_content": null,
            "visibility": null,
            "align_self": null,
            "height": null,
            "min_height": null,
            "padding": null,
            "grid_auto_rows": null,
            "grid_gap": null,
            "max_width": null,
            "order": null,
            "_view_module_version": "1.2.0",
            "grid_template_areas": null,
            "object_position": null,
            "object_fit": null,
            "grid_auto_columns": null,
            "margin": null,
            "display": null,
            "left": null
          }
        },
        "3a880db9400b4bf1ada19e5ed587095a": {
          "model_module": "@jupyter-widgets/controls",
          "model_name": "HTMLModel",
          "model_module_version": "1.5.0",
          "state": {
            "_view_name": "HTMLView",
            "style": "IPY_MODEL_3806675cbe064c2fbb530dab7e439b65",
            "_dom_classes": [],
            "description": "",
            "_model_name": "HTMLModel",
            "placeholder": "​",
            "_view_module": "@jupyter-widgets/controls",
            "_model_module_version": "1.5.0",
            "value": "Downloading: 100%",
            "_view_count": null,
            "_view_module_version": "1.5.0",
            "description_tooltip": null,
            "_model_module": "@jupyter-widgets/controls",
            "layout": "IPY_MODEL_5c3d330e5be74f98ba1482c64cc86341"
          }
        },
        "010024156ac24270bc4093d524f3d297": {
          "model_module": "@jupyter-widgets/controls",
          "model_name": "FloatProgressModel",
          "model_module_version": "1.5.0",
          "state": {
            "_view_name": "ProgressView",
            "style": "IPY_MODEL_7668c15f16334219a3dfac624c581d2a",
            "_dom_classes": [],
            "description": "",
            "_model_name": "FloatProgressModel",
            "bar_style": "success",
            "max": 442,
            "_view_module": "@jupyter-widgets/controls",
            "_model_module_version": "1.5.0",
            "value": 442,
            "_view_count": null,
            "_view_module_version": "1.5.0",
            "orientation": "horizontal",
            "min": 0,
            "description_tooltip": null,
            "_model_module": "@jupyter-widgets/controls",
            "layout": "IPY_MODEL_2e7872c40f6940788ab41999fa02c7fc"
          }
        },
        "354120bff066446fa534eeda78be8f14": {
          "model_module": "@jupyter-widgets/controls",
          "model_name": "HTMLModel",
          "model_module_version": "1.5.0",
          "state": {
            "_view_name": "HTMLView",
            "style": "IPY_MODEL_6f8a09729fad40b9b3f0ab35bb08d0e8",
            "_dom_classes": [],
            "description": "",
            "_model_name": "HTMLModel",
            "placeholder": "​",
            "_view_module": "@jupyter-widgets/controls",
            "_model_module_version": "1.5.0",
            "value": " 442/442 [00:00&lt;00:00, 8.61kB/s]",
            "_view_count": null,
            "_view_module_version": "1.5.0",
            "description_tooltip": null,
            "_model_module": "@jupyter-widgets/controls",
            "layout": "IPY_MODEL_96e36ddc51cd4929a531f83e1e5be58a"
          }
        },
        "3806675cbe064c2fbb530dab7e439b65": {
          "model_module": "@jupyter-widgets/controls",
          "model_name": "DescriptionStyleModel",
          "model_module_version": "1.5.0",
          "state": {
            "_view_name": "StyleView",
            "_model_name": "DescriptionStyleModel",
            "description_width": "",
            "_view_module": "@jupyter-widgets/base",
            "_model_module_version": "1.5.0",
            "_view_count": null,
            "_view_module_version": "1.2.0",
            "_model_module": "@jupyter-widgets/controls"
          }
        },
        "5c3d330e5be74f98ba1482c64cc86341": {
          "model_module": "@jupyter-widgets/base",
          "model_name": "LayoutModel",
          "model_module_version": "1.2.0",
          "state": {
            "_view_name": "LayoutView",
            "grid_template_rows": null,
            "right": null,
            "justify_content": null,
            "_view_module": "@jupyter-widgets/base",
            "overflow": null,
            "_model_module_version": "1.2.0",
            "_view_count": null,
            "flex_flow": null,
            "width": null,
            "min_width": null,
            "border": null,
            "align_items": null,
            "bottom": null,
            "_model_module": "@jupyter-widgets/base",
            "top": null,
            "grid_column": null,
            "overflow_y": null,
            "overflow_x": null,
            "grid_auto_flow": null,
            "grid_area": null,
            "grid_template_columns": null,
            "flex": null,
            "_model_name": "LayoutModel",
            "justify_items": null,
            "grid_row": null,
            "max_height": null,
            "align_content": null,
            "visibility": null,
            "align_self": null,
            "height": null,
            "min_height": null,
            "padding": null,
            "grid_auto_rows": null,
            "grid_gap": null,
            "max_width": null,
            "order": null,
            "_view_module_version": "1.2.0",
            "grid_template_areas": null,
            "object_position": null,
            "object_fit": null,
            "grid_auto_columns": null,
            "margin": null,
            "display": null,
            "left": null
          }
        },
        "7668c15f16334219a3dfac624c581d2a": {
          "model_module": "@jupyter-widgets/controls",
          "model_name": "ProgressStyleModel",
          "model_module_version": "1.5.0",
          "state": {
            "_view_name": "StyleView",
            "_model_name": "ProgressStyleModel",
            "description_width": "",
            "_view_module": "@jupyter-widgets/base",
            "_model_module_version": "1.5.0",
            "_view_count": null,
            "_view_module_version": "1.2.0",
            "bar_color": null,
            "_model_module": "@jupyter-widgets/controls"
          }
        },
        "2e7872c40f6940788ab41999fa02c7fc": {
          "model_module": "@jupyter-widgets/base",
          "model_name": "LayoutModel",
          "model_module_version": "1.2.0",
          "state": {
            "_view_name": "LayoutView",
            "grid_template_rows": null,
            "right": null,
            "justify_content": null,
            "_view_module": "@jupyter-widgets/base",
            "overflow": null,
            "_model_module_version": "1.2.0",
            "_view_count": null,
            "flex_flow": null,
            "width": null,
            "min_width": null,
            "border": null,
            "align_items": null,
            "bottom": null,
            "_model_module": "@jupyter-widgets/base",
            "top": null,
            "grid_column": null,
            "overflow_y": null,
            "overflow_x": null,
            "grid_auto_flow": null,
            "grid_area": null,
            "grid_template_columns": null,
            "flex": null,
            "_model_name": "LayoutModel",
            "justify_items": null,
            "grid_row": null,
            "max_height": null,
            "align_content": null,
            "visibility": null,
            "align_self": null,
            "height": null,
            "min_height": null,
            "padding": null,
            "grid_auto_rows": null,
            "grid_gap": null,
            "max_width": null,
            "order": null,
            "_view_module_version": "1.2.0",
            "grid_template_areas": null,
            "object_position": null,
            "object_fit": null,
            "grid_auto_columns": null,
            "margin": null,
            "display": null,
            "left": null
          }
        },
        "6f8a09729fad40b9b3f0ab35bb08d0e8": {
          "model_module": "@jupyter-widgets/controls",
          "model_name": "DescriptionStyleModel",
          "model_module_version": "1.5.0",
          "state": {
            "_view_name": "StyleView",
            "_model_name": "DescriptionStyleModel",
            "description_width": "",
            "_view_module": "@jupyter-widgets/base",
            "_model_module_version": "1.5.0",
            "_view_count": null,
            "_view_module_version": "1.2.0",
            "_model_module": "@jupyter-widgets/controls"
          }
        },
        "96e36ddc51cd4929a531f83e1e5be58a": {
          "model_module": "@jupyter-widgets/base",
          "model_name": "LayoutModel",
          "model_module_version": "1.2.0",
          "state": {
            "_view_name": "LayoutView",
            "grid_template_rows": null,
            "right": null,
            "justify_content": null,
            "_view_module": "@jupyter-widgets/base",
            "overflow": null,
            "_model_module_version": "1.2.0",
            "_view_count": null,
            "flex_flow": null,
            "width": null,
            "min_width": null,
            "border": null,
            "align_items": null,
            "bottom": null,
            "_model_module": "@jupyter-widgets/base",
            "top": null,
            "grid_column": null,
            "overflow_y": null,
            "overflow_x": null,
            "grid_auto_flow": null,
            "grid_area": null,
            "grid_template_columns": null,
            "flex": null,
            "_model_name": "LayoutModel",
            "justify_items": null,
            "grid_row": null,
            "max_height": null,
            "align_content": null,
            "visibility": null,
            "align_self": null,
            "height": null,
            "min_height": null,
            "padding": null,
            "grid_auto_rows": null,
            "grid_gap": null,
            "max_width": null,
            "order": null,
            "_view_module_version": "1.2.0",
            "grid_template_areas": null,
            "object_position": null,
            "object_fit": null,
            "grid_auto_columns": null,
            "margin": null,
            "display": null,
            "left": null
          }
        },
        "a900f29b33824ba1912396b571128f75": {
          "model_module": "@jupyter-widgets/controls",
          "model_name": "HBoxModel",
          "model_module_version": "1.5.0",
          "state": {
            "_view_name": "HBoxView",
            "_dom_classes": [],
            "_model_name": "HBoxModel",
            "_view_module": "@jupyter-widgets/controls",
            "_model_module_version": "1.5.0",
            "_view_count": null,
            "_view_module_version": "1.5.0",
            "box_style": "",
            "layout": "IPY_MODEL_1084d55d43f147588820da172393020b",
            "_model_module": "@jupyter-widgets/controls",
            "children": [
              "IPY_MODEL_04bf95fcda7149519f643d637b9b61bf",
              "IPY_MODEL_9d55cc695a534bf38876a7925e044a07",
              "IPY_MODEL_ea3b2f3d6a2e4e1dabbef8f1ee4b3b7c"
            ]
          }
        },
        "1084d55d43f147588820da172393020b": {
          "model_module": "@jupyter-widgets/base",
          "model_name": "LayoutModel",
          "model_module_version": "1.2.0",
          "state": {
            "_view_name": "LayoutView",
            "grid_template_rows": null,
            "right": null,
            "justify_content": null,
            "_view_module": "@jupyter-widgets/base",
            "overflow": null,
            "_model_module_version": "1.2.0",
            "_view_count": null,
            "flex_flow": null,
            "width": null,
            "min_width": null,
            "border": null,
            "align_items": null,
            "bottom": null,
            "_model_module": "@jupyter-widgets/base",
            "top": null,
            "grid_column": null,
            "overflow_y": null,
            "overflow_x": null,
            "grid_auto_flow": null,
            "grid_area": null,
            "grid_template_columns": null,
            "flex": null,
            "_model_name": "LayoutModel",
            "justify_items": null,
            "grid_row": null,
            "max_height": null,
            "align_content": null,
            "visibility": null,
            "align_self": null,
            "height": null,
            "min_height": null,
            "padding": null,
            "grid_auto_rows": null,
            "grid_gap": null,
            "max_width": null,
            "order": null,
            "_view_module_version": "1.2.0",
            "grid_template_areas": null,
            "object_position": null,
            "object_fit": null,
            "grid_auto_columns": null,
            "margin": null,
            "display": null,
            "left": null
          }
        },
        "04bf95fcda7149519f643d637b9b61bf": {
          "model_module": "@jupyter-widgets/controls",
          "model_name": "HTMLModel",
          "model_module_version": "1.5.0",
          "state": {
            "_view_name": "HTMLView",
            "style": "IPY_MODEL_072bee2b6a1040f7b67f793250398c1b",
            "_dom_classes": [],
            "description": "",
            "_model_name": "HTMLModel",
            "placeholder": "​",
            "_view_module": "@jupyter-widgets/controls",
            "_model_module_version": "1.5.0",
            "value": "Downloading: 100%",
            "_view_count": null,
            "_view_module_version": "1.5.0",
            "description_tooltip": null,
            "_model_module": "@jupyter-widgets/controls",
            "layout": "IPY_MODEL_b042ca126bd24cf58048896192043cd0"
          }
        },
        "9d55cc695a534bf38876a7925e044a07": {
          "model_module": "@jupyter-widgets/controls",
          "model_name": "FloatProgressModel",
          "model_module_version": "1.5.0",
          "state": {
            "_view_name": "ProgressView",
            "style": "IPY_MODEL_8973b31f41e4491ca7ef104d38fb18f7",
            "_dom_classes": [],
            "description": "",
            "_model_name": "FloatProgressModel",
            "bar_style": "success",
            "max": 267967963,
            "_view_module": "@jupyter-widgets/controls",
            "_model_module_version": "1.5.0",
            "value": 267967963,
            "_view_count": null,
            "_view_module_version": "1.5.0",
            "orientation": "horizontal",
            "min": 0,
            "description_tooltip": null,
            "_model_module": "@jupyter-widgets/controls",
            "layout": "IPY_MODEL_940f77dbf2f643309dffb696c0c47943"
          }
        },
        "ea3b2f3d6a2e4e1dabbef8f1ee4b3b7c": {
          "model_module": "@jupyter-widgets/controls",
          "model_name": "HTMLModel",
          "model_module_version": "1.5.0",
          "state": {
            "_view_name": "HTMLView",
            "style": "IPY_MODEL_d7f80ca99ee7494da68ddc6a620acead",
            "_dom_classes": [],
            "description": "",
            "_model_name": "HTMLModel",
            "placeholder": "​",
            "_view_module": "@jupyter-widgets/controls",
            "_model_module_version": "1.5.0",
            "value": " 268M/268M [00:08&lt;00:00, 33.6MB/s]",
            "_view_count": null,
            "_view_module_version": "1.5.0",
            "description_tooltip": null,
            "_model_module": "@jupyter-widgets/controls",
            "layout": "IPY_MODEL_99f1d40a380141869220b96a45c1f136"
          }
        },
        "072bee2b6a1040f7b67f793250398c1b": {
          "model_module": "@jupyter-widgets/controls",
          "model_name": "DescriptionStyleModel",
          "model_module_version": "1.5.0",
          "state": {
            "_view_name": "StyleView",
            "_model_name": "DescriptionStyleModel",
            "description_width": "",
            "_view_module": "@jupyter-widgets/base",
            "_model_module_version": "1.5.0",
            "_view_count": null,
            "_view_module_version": "1.2.0",
            "_model_module": "@jupyter-widgets/controls"
          }
        },
        "b042ca126bd24cf58048896192043cd0": {
          "model_module": "@jupyter-widgets/base",
          "model_name": "LayoutModel",
          "model_module_version": "1.2.0",
          "state": {
            "_view_name": "LayoutView",
            "grid_template_rows": null,
            "right": null,
            "justify_content": null,
            "_view_module": "@jupyter-widgets/base",
            "overflow": null,
            "_model_module_version": "1.2.0",
            "_view_count": null,
            "flex_flow": null,
            "width": null,
            "min_width": null,
            "border": null,
            "align_items": null,
            "bottom": null,
            "_model_module": "@jupyter-widgets/base",
            "top": null,
            "grid_column": null,
            "overflow_y": null,
            "overflow_x": null,
            "grid_auto_flow": null,
            "grid_area": null,
            "grid_template_columns": null,
            "flex": null,
            "_model_name": "LayoutModel",
            "justify_items": null,
            "grid_row": null,
            "max_height": null,
            "align_content": null,
            "visibility": null,
            "align_self": null,
            "height": null,
            "min_height": null,
            "padding": null,
            "grid_auto_rows": null,
            "grid_gap": null,
            "max_width": null,
            "order": null,
            "_view_module_version": "1.2.0",
            "grid_template_areas": null,
            "object_position": null,
            "object_fit": null,
            "grid_auto_columns": null,
            "margin": null,
            "display": null,
            "left": null
          }
        },
        "8973b31f41e4491ca7ef104d38fb18f7": {
          "model_module": "@jupyter-widgets/controls",
          "model_name": "ProgressStyleModel",
          "model_module_version": "1.5.0",
          "state": {
            "_view_name": "StyleView",
            "_model_name": "ProgressStyleModel",
            "description_width": "",
            "_view_module": "@jupyter-widgets/base",
            "_model_module_version": "1.5.0",
            "_view_count": null,
            "_view_module_version": "1.2.0",
            "bar_color": null,
            "_model_module": "@jupyter-widgets/controls"
          }
        },
        "940f77dbf2f643309dffb696c0c47943": {
          "model_module": "@jupyter-widgets/base",
          "model_name": "LayoutModel",
          "model_module_version": "1.2.0",
          "state": {
            "_view_name": "LayoutView",
            "grid_template_rows": null,
            "right": null,
            "justify_content": null,
            "_view_module": "@jupyter-widgets/base",
            "overflow": null,
            "_model_module_version": "1.2.0",
            "_view_count": null,
            "flex_flow": null,
            "width": null,
            "min_width": null,
            "border": null,
            "align_items": null,
            "bottom": null,
            "_model_module": "@jupyter-widgets/base",
            "top": null,
            "grid_column": null,
            "overflow_y": null,
            "overflow_x": null,
            "grid_auto_flow": null,
            "grid_area": null,
            "grid_template_columns": null,
            "flex": null,
            "_model_name": "LayoutModel",
            "justify_items": null,
            "grid_row": null,
            "max_height": null,
            "align_content": null,
            "visibility": null,
            "align_self": null,
            "height": null,
            "min_height": null,
            "padding": null,
            "grid_auto_rows": null,
            "grid_gap": null,
            "max_width": null,
            "order": null,
            "_view_module_version": "1.2.0",
            "grid_template_areas": null,
            "object_position": null,
            "object_fit": null,
            "grid_auto_columns": null,
            "margin": null,
            "display": null,
            "left": null
          }
        },
        "d7f80ca99ee7494da68ddc6a620acead": {
          "model_module": "@jupyter-widgets/controls",
          "model_name": "DescriptionStyleModel",
          "model_module_version": "1.5.0",
          "state": {
            "_view_name": "StyleView",
            "_model_name": "DescriptionStyleModel",
            "description_width": "",
            "_view_module": "@jupyter-widgets/base",
            "_model_module_version": "1.5.0",
            "_view_count": null,
            "_view_module_version": "1.2.0",
            "_model_module": "@jupyter-widgets/controls"
          }
        },
        "99f1d40a380141869220b96a45c1f136": {
          "model_module": "@jupyter-widgets/base",
          "model_name": "LayoutModel",
          "model_module_version": "1.2.0",
          "state": {
            "_view_name": "LayoutView",
            "grid_template_rows": null,
            "right": null,
            "justify_content": null,
            "_view_module": "@jupyter-widgets/base",
            "overflow": null,
            "_model_module_version": "1.2.0",
            "_view_count": null,
            "flex_flow": null,
            "width": null,
            "min_width": null,
            "border": null,
            "align_items": null,
            "bottom": null,
            "_model_module": "@jupyter-widgets/base",
            "top": null,
            "grid_column": null,
            "overflow_y": null,
            "overflow_x": null,
            "grid_auto_flow": null,
            "grid_area": null,
            "grid_template_columns": null,
            "flex": null,
            "_model_name": "LayoutModel",
            "justify_items": null,
            "grid_row": null,
            "max_height": null,
            "align_content": null,
            "visibility": null,
            "align_self": null,
            "height": null,
            "min_height": null,
            "padding": null,
            "grid_auto_rows": null,
            "grid_gap": null,
            "max_width": null,
            "order": null,
            "_view_module_version": "1.2.0",
            "grid_template_areas": null,
            "object_position": null,
            "object_fit": null,
            "grid_auto_columns": null,
            "margin": null,
            "display": null,
            "left": null
          }
        },
        "73958b467d8e41368b5d716453918e45": {
          "model_module": "@jupyter-widgets/controls",
          "model_name": "HBoxModel",
          "model_module_version": "1.5.0",
          "state": {
            "_view_name": "HBoxView",
            "_dom_classes": [],
            "_model_name": "HBoxModel",
            "_view_module": "@jupyter-widgets/controls",
            "_model_module_version": "1.5.0",
            "_view_count": null,
            "_view_module_version": "1.5.0",
            "box_style": "",
            "layout": "IPY_MODEL_7587102c2271436bbbba061ac1014c73",
            "_model_module": "@jupyter-widgets/controls",
            "children": [
              "IPY_MODEL_ff14c3b26f3b435f869ec4c14a3c7f89",
              "IPY_MODEL_fed70f803d234c28aa0158f5524fddd0",
              "IPY_MODEL_490522d889b34630a54e5d23ffc5522a"
            ]
          }
        },
        "7587102c2271436bbbba061ac1014c73": {
          "model_module": "@jupyter-widgets/base",
          "model_name": "LayoutModel",
          "model_module_version": "1.2.0",
          "state": {
            "_view_name": "LayoutView",
            "grid_template_rows": null,
            "right": null,
            "justify_content": null,
            "_view_module": "@jupyter-widgets/base",
            "overflow": null,
            "_model_module_version": "1.2.0",
            "_view_count": null,
            "flex_flow": null,
            "width": null,
            "min_width": null,
            "border": null,
            "align_items": null,
            "bottom": null,
            "_model_module": "@jupyter-widgets/base",
            "top": null,
            "grid_column": null,
            "overflow_y": null,
            "overflow_x": null,
            "grid_auto_flow": null,
            "grid_area": null,
            "grid_template_columns": null,
            "flex": null,
            "_model_name": "LayoutModel",
            "justify_items": null,
            "grid_row": null,
            "max_height": null,
            "align_content": null,
            "visibility": null,
            "align_self": null,
            "height": null,
            "min_height": null,
            "padding": null,
            "grid_auto_rows": null,
            "grid_gap": null,
            "max_width": null,
            "order": null,
            "_view_module_version": "1.2.0",
            "grid_template_areas": null,
            "object_position": null,
            "object_fit": null,
            "grid_auto_columns": null,
            "margin": null,
            "display": null,
            "left": null
          }
        },
        "ff14c3b26f3b435f869ec4c14a3c7f89": {
          "model_module": "@jupyter-widgets/controls",
          "model_name": "HTMLModel",
          "model_module_version": "1.5.0",
          "state": {
            "_view_name": "HTMLView",
            "style": "IPY_MODEL_eaedf003e9054581a6907a1fdde265fe",
            "_dom_classes": [],
            "description": "",
            "_model_name": "HTMLModel",
            "placeholder": "​",
            "_view_module": "@jupyter-widgets/controls",
            "_model_module_version": "1.5.0",
            "value": "Downloading: 100%",
            "_view_count": null,
            "_view_module_version": "1.5.0",
            "description_tooltip": null,
            "_model_module": "@jupyter-widgets/controls",
            "layout": "IPY_MODEL_19448f1152664fb0af5dfabb60fbee58"
          }
        },
        "fed70f803d234c28aa0158f5524fddd0": {
          "model_module": "@jupyter-widgets/controls",
          "model_name": "FloatProgressModel",
          "model_module_version": "1.5.0",
          "state": {
            "_view_name": "ProgressView",
            "style": "IPY_MODEL_c51d93a8c6284101a527c187ebb0a779",
            "_dom_classes": [],
            "description": "",
            "_model_name": "FloatProgressModel",
            "bar_style": "success",
            "max": 28,
            "_view_module": "@jupyter-widgets/controls",
            "_model_module_version": "1.5.0",
            "value": 28,
            "_view_count": null,
            "_view_module_version": "1.5.0",
            "orientation": "horizontal",
            "min": 0,
            "description_tooltip": null,
            "_model_module": "@jupyter-widgets/controls",
            "layout": "IPY_MODEL_b39ef8becbe741bf9b0daea6f1d545be"
          }
        },
        "490522d889b34630a54e5d23ffc5522a": {
          "model_module": "@jupyter-widgets/controls",
          "model_name": "HTMLModel",
          "model_module_version": "1.5.0",
          "state": {
            "_view_name": "HTMLView",
            "style": "IPY_MODEL_ae445bf9feaa4778b1ae3957f615f0a6",
            "_dom_classes": [],
            "description": "",
            "_model_name": "HTMLModel",
            "placeholder": "​",
            "_view_module": "@jupyter-widgets/controls",
            "_model_module_version": "1.5.0",
            "value": " 28.0/28.0 [00:00&lt;00:00, 559B/s]",
            "_view_count": null,
            "_view_module_version": "1.5.0",
            "description_tooltip": null,
            "_model_module": "@jupyter-widgets/controls",
            "layout": "IPY_MODEL_713f030bda484fd4aa5b07939c044bfc"
          }
        },
        "eaedf003e9054581a6907a1fdde265fe": {
          "model_module": "@jupyter-widgets/controls",
          "model_name": "DescriptionStyleModel",
          "model_module_version": "1.5.0",
          "state": {
            "_view_name": "StyleView",
            "_model_name": "DescriptionStyleModel",
            "description_width": "",
            "_view_module": "@jupyter-widgets/base",
            "_model_module_version": "1.5.0",
            "_view_count": null,
            "_view_module_version": "1.2.0",
            "_model_module": "@jupyter-widgets/controls"
          }
        },
        "19448f1152664fb0af5dfabb60fbee58": {
          "model_module": "@jupyter-widgets/base",
          "model_name": "LayoutModel",
          "model_module_version": "1.2.0",
          "state": {
            "_view_name": "LayoutView",
            "grid_template_rows": null,
            "right": null,
            "justify_content": null,
            "_view_module": "@jupyter-widgets/base",
            "overflow": null,
            "_model_module_version": "1.2.0",
            "_view_count": null,
            "flex_flow": null,
            "width": null,
            "min_width": null,
            "border": null,
            "align_items": null,
            "bottom": null,
            "_model_module": "@jupyter-widgets/base",
            "top": null,
            "grid_column": null,
            "overflow_y": null,
            "overflow_x": null,
            "grid_auto_flow": null,
            "grid_area": null,
            "grid_template_columns": null,
            "flex": null,
            "_model_name": "LayoutModel",
            "justify_items": null,
            "grid_row": null,
            "max_height": null,
            "align_content": null,
            "visibility": null,
            "align_self": null,
            "height": null,
            "min_height": null,
            "padding": null,
            "grid_auto_rows": null,
            "grid_gap": null,
            "max_width": null,
            "order": null,
            "_view_module_version": "1.2.0",
            "grid_template_areas": null,
            "object_position": null,
            "object_fit": null,
            "grid_auto_columns": null,
            "margin": null,
            "display": null,
            "left": null
          }
        },
        "c51d93a8c6284101a527c187ebb0a779": {
          "model_module": "@jupyter-widgets/controls",
          "model_name": "ProgressStyleModel",
          "model_module_version": "1.5.0",
          "state": {
            "_view_name": "StyleView",
            "_model_name": "ProgressStyleModel",
            "description_width": "",
            "_view_module": "@jupyter-widgets/base",
            "_model_module_version": "1.5.0",
            "_view_count": null,
            "_view_module_version": "1.2.0",
            "bar_color": null,
            "_model_module": "@jupyter-widgets/controls"
          }
        },
        "b39ef8becbe741bf9b0daea6f1d545be": {
          "model_module": "@jupyter-widgets/base",
          "model_name": "LayoutModel",
          "model_module_version": "1.2.0",
          "state": {
            "_view_name": "LayoutView",
            "grid_template_rows": null,
            "right": null,
            "justify_content": null,
            "_view_module": "@jupyter-widgets/base",
            "overflow": null,
            "_model_module_version": "1.2.0",
            "_view_count": null,
            "flex_flow": null,
            "width": null,
            "min_width": null,
            "border": null,
            "align_items": null,
            "bottom": null,
            "_model_module": "@jupyter-widgets/base",
            "top": null,
            "grid_column": null,
            "overflow_y": null,
            "overflow_x": null,
            "grid_auto_flow": null,
            "grid_area": null,
            "grid_template_columns": null,
            "flex": null,
            "_model_name": "LayoutModel",
            "justify_items": null,
            "grid_row": null,
            "max_height": null,
            "align_content": null,
            "visibility": null,
            "align_self": null,
            "height": null,
            "min_height": null,
            "padding": null,
            "grid_auto_rows": null,
            "grid_gap": null,
            "max_width": null,
            "order": null,
            "_view_module_version": "1.2.0",
            "grid_template_areas": null,
            "object_position": null,
            "object_fit": null,
            "grid_auto_columns": null,
            "margin": null,
            "display": null,
            "left": null
          }
        },
        "ae445bf9feaa4778b1ae3957f615f0a6": {
          "model_module": "@jupyter-widgets/controls",
          "model_name": "DescriptionStyleModel",
          "model_module_version": "1.5.0",
          "state": {
            "_view_name": "StyleView",
            "_model_name": "DescriptionStyleModel",
            "description_width": "",
            "_view_module": "@jupyter-widgets/base",
            "_model_module_version": "1.5.0",
            "_view_count": null,
            "_view_module_version": "1.2.0",
            "_model_module": "@jupyter-widgets/controls"
          }
        },
        "713f030bda484fd4aa5b07939c044bfc": {
          "model_module": "@jupyter-widgets/base",
          "model_name": "LayoutModel",
          "model_module_version": "1.2.0",
          "state": {
            "_view_name": "LayoutView",
            "grid_template_rows": null,
            "right": null,
            "justify_content": null,
            "_view_module": "@jupyter-widgets/base",
            "overflow": null,
            "_model_module_version": "1.2.0",
            "_view_count": null,
            "flex_flow": null,
            "width": null,
            "min_width": null,
            "border": null,
            "align_items": null,
            "bottom": null,
            "_model_module": "@jupyter-widgets/base",
            "top": null,
            "grid_column": null,
            "overflow_y": null,
            "overflow_x": null,
            "grid_auto_flow": null,
            "grid_area": null,
            "grid_template_columns": null,
            "flex": null,
            "_model_name": "LayoutModel",
            "justify_items": null,
            "grid_row": null,
            "max_height": null,
            "align_content": null,
            "visibility": null,
            "align_self": null,
            "height": null,
            "min_height": null,
            "padding": null,
            "grid_auto_rows": null,
            "grid_gap": null,
            "max_width": null,
            "order": null,
            "_view_module_version": "1.2.0",
            "grid_template_areas": null,
            "object_position": null,
            "object_fit": null,
            "grid_auto_columns": null,
            "margin": null,
            "display": null,
            "left": null
          }
        },
        "d2d7ed1d43c24af0bf7276874a09bc96": {
          "model_module": "@jupyter-widgets/controls",
          "model_name": "HBoxModel",
          "model_module_version": "1.5.0",
          "state": {
            "_view_name": "HBoxView",
            "_dom_classes": [],
            "_model_name": "HBoxModel",
            "_view_module": "@jupyter-widgets/controls",
            "_model_module_version": "1.5.0",
            "_view_count": null,
            "_view_module_version": "1.5.0",
            "box_style": "",
            "layout": "IPY_MODEL_a6bd0e7520f34c5a92a893b718d3ba1b",
            "_model_module": "@jupyter-widgets/controls",
            "children": [
              "IPY_MODEL_459a66d6116e4fa3aabfbb1949b90655",
              "IPY_MODEL_96e698c37db644ceac89cbd5a1efc495",
              "IPY_MODEL_34fd763d3f0a4a0d814d0054e5e2218b"
            ]
          }
        },
        "a6bd0e7520f34c5a92a893b718d3ba1b": {
          "model_module": "@jupyter-widgets/base",
          "model_name": "LayoutModel",
          "model_module_version": "1.2.0",
          "state": {
            "_view_name": "LayoutView",
            "grid_template_rows": null,
            "right": null,
            "justify_content": null,
            "_view_module": "@jupyter-widgets/base",
            "overflow": null,
            "_model_module_version": "1.2.0",
            "_view_count": null,
            "flex_flow": null,
            "width": null,
            "min_width": null,
            "border": null,
            "align_items": null,
            "bottom": null,
            "_model_module": "@jupyter-widgets/base",
            "top": null,
            "grid_column": null,
            "overflow_y": null,
            "overflow_x": null,
            "grid_auto_flow": null,
            "grid_area": null,
            "grid_template_columns": null,
            "flex": null,
            "_model_name": "LayoutModel",
            "justify_items": null,
            "grid_row": null,
            "max_height": null,
            "align_content": null,
            "visibility": null,
            "align_self": null,
            "height": null,
            "min_height": null,
            "padding": null,
            "grid_auto_rows": null,
            "grid_gap": null,
            "max_width": null,
            "order": null,
            "_view_module_version": "1.2.0",
            "grid_template_areas": null,
            "object_position": null,
            "object_fit": null,
            "grid_auto_columns": null,
            "margin": null,
            "display": null,
            "left": null
          }
        },
        "459a66d6116e4fa3aabfbb1949b90655": {
          "model_module": "@jupyter-widgets/controls",
          "model_name": "HTMLModel",
          "model_module_version": "1.5.0",
          "state": {
            "_view_name": "HTMLView",
            "style": "IPY_MODEL_1d44eee7038848da8d65fca5b8bf124f",
            "_dom_classes": [],
            "description": "",
            "_model_name": "HTMLModel",
            "placeholder": "​",
            "_view_module": "@jupyter-widgets/controls",
            "_model_module_version": "1.5.0",
            "value": "Downloading: 100%",
            "_view_count": null,
            "_view_module_version": "1.5.0",
            "description_tooltip": null,
            "_model_module": "@jupyter-widgets/controls",
            "layout": "IPY_MODEL_f4806105bdcb4ad9a6c8eb20b7b18af8"
          }
        },
        "96e698c37db644ceac89cbd5a1efc495": {
          "model_module": "@jupyter-widgets/controls",
          "model_name": "FloatProgressModel",
          "model_module_version": "1.5.0",
          "state": {
            "_view_name": "ProgressView",
            "style": "IPY_MODEL_0aec282fef1f4e56bc883cc2a7f26d9d",
            "_dom_classes": [],
            "description": "",
            "_model_name": "FloatProgressModel",
            "bar_style": "success",
            "max": 231508,
            "_view_module": "@jupyter-widgets/controls",
            "_model_module_version": "1.5.0",
            "value": 231508,
            "_view_count": null,
            "_view_module_version": "1.5.0",
            "orientation": "horizontal",
            "min": 0,
            "description_tooltip": null,
            "_model_module": "@jupyter-widgets/controls",
            "layout": "IPY_MODEL_6aeb664bde904b4ab6d6350e91792cc5"
          }
        },
        "34fd763d3f0a4a0d814d0054e5e2218b": {
          "model_module": "@jupyter-widgets/controls",
          "model_name": "HTMLModel",
          "model_module_version": "1.5.0",
          "state": {
            "_view_name": "HTMLView",
            "style": "IPY_MODEL_7c11cd858b604bf0a4853c6f9a5fef8d",
            "_dom_classes": [],
            "description": "",
            "_model_name": "HTMLModel",
            "placeholder": "​",
            "_view_module": "@jupyter-widgets/controls",
            "_model_module_version": "1.5.0",
            "value": " 232k/232k [00:00&lt;00:00, 666kB/s]",
            "_view_count": null,
            "_view_module_version": "1.5.0",
            "description_tooltip": null,
            "_model_module": "@jupyter-widgets/controls",
            "layout": "IPY_MODEL_67f23411a3d6494b88d8f2b20852fe86"
          }
        },
        "1d44eee7038848da8d65fca5b8bf124f": {
          "model_module": "@jupyter-widgets/controls",
          "model_name": "DescriptionStyleModel",
          "model_module_version": "1.5.0",
          "state": {
            "_view_name": "StyleView",
            "_model_name": "DescriptionStyleModel",
            "description_width": "",
            "_view_module": "@jupyter-widgets/base",
            "_model_module_version": "1.5.0",
            "_view_count": null,
            "_view_module_version": "1.2.0",
            "_model_module": "@jupyter-widgets/controls"
          }
        },
        "f4806105bdcb4ad9a6c8eb20b7b18af8": {
          "model_module": "@jupyter-widgets/base",
          "model_name": "LayoutModel",
          "model_module_version": "1.2.0",
          "state": {
            "_view_name": "LayoutView",
            "grid_template_rows": null,
            "right": null,
            "justify_content": null,
            "_view_module": "@jupyter-widgets/base",
            "overflow": null,
            "_model_module_version": "1.2.0",
            "_view_count": null,
            "flex_flow": null,
            "width": null,
            "min_width": null,
            "border": null,
            "align_items": null,
            "bottom": null,
            "_model_module": "@jupyter-widgets/base",
            "top": null,
            "grid_column": null,
            "overflow_y": null,
            "overflow_x": null,
            "grid_auto_flow": null,
            "grid_area": null,
            "grid_template_columns": null,
            "flex": null,
            "_model_name": "LayoutModel",
            "justify_items": null,
            "grid_row": null,
            "max_height": null,
            "align_content": null,
            "visibility": null,
            "align_self": null,
            "height": null,
            "min_height": null,
            "padding": null,
            "grid_auto_rows": null,
            "grid_gap": null,
            "max_width": null,
            "order": null,
            "_view_module_version": "1.2.0",
            "grid_template_areas": null,
            "object_position": null,
            "object_fit": null,
            "grid_auto_columns": null,
            "margin": null,
            "display": null,
            "left": null
          }
        },
        "0aec282fef1f4e56bc883cc2a7f26d9d": {
          "model_module": "@jupyter-widgets/controls",
          "model_name": "ProgressStyleModel",
          "model_module_version": "1.5.0",
          "state": {
            "_view_name": "StyleView",
            "_model_name": "ProgressStyleModel",
            "description_width": "",
            "_view_module": "@jupyter-widgets/base",
            "_model_module_version": "1.5.0",
            "_view_count": null,
            "_view_module_version": "1.2.0",
            "bar_color": null,
            "_model_module": "@jupyter-widgets/controls"
          }
        },
        "6aeb664bde904b4ab6d6350e91792cc5": {
          "model_module": "@jupyter-widgets/base",
          "model_name": "LayoutModel",
          "model_module_version": "1.2.0",
          "state": {
            "_view_name": "LayoutView",
            "grid_template_rows": null,
            "right": null,
            "justify_content": null,
            "_view_module": "@jupyter-widgets/base",
            "overflow": null,
            "_model_module_version": "1.2.0",
            "_view_count": null,
            "flex_flow": null,
            "width": null,
            "min_width": null,
            "border": null,
            "align_items": null,
            "bottom": null,
            "_model_module": "@jupyter-widgets/base",
            "top": null,
            "grid_column": null,
            "overflow_y": null,
            "overflow_x": null,
            "grid_auto_flow": null,
            "grid_area": null,
            "grid_template_columns": null,
            "flex": null,
            "_model_name": "LayoutModel",
            "justify_items": null,
            "grid_row": null,
            "max_height": null,
            "align_content": null,
            "visibility": null,
            "align_self": null,
            "height": null,
            "min_height": null,
            "padding": null,
            "grid_auto_rows": null,
            "grid_gap": null,
            "max_width": null,
            "order": null,
            "_view_module_version": "1.2.0",
            "grid_template_areas": null,
            "object_position": null,
            "object_fit": null,
            "grid_auto_columns": null,
            "margin": null,
            "display": null,
            "left": null
          }
        },
        "7c11cd858b604bf0a4853c6f9a5fef8d": {
          "model_module": "@jupyter-widgets/controls",
          "model_name": "DescriptionStyleModel",
          "model_module_version": "1.5.0",
          "state": {
            "_view_name": "StyleView",
            "_model_name": "DescriptionStyleModel",
            "description_width": "",
            "_view_module": "@jupyter-widgets/base",
            "_model_module_version": "1.5.0",
            "_view_count": null,
            "_view_module_version": "1.2.0",
            "_model_module": "@jupyter-widgets/controls"
          }
        },
        "67f23411a3d6494b88d8f2b20852fe86": {
          "model_module": "@jupyter-widgets/base",
          "model_name": "LayoutModel",
          "model_module_version": "1.2.0",
          "state": {
            "_view_name": "LayoutView",
            "grid_template_rows": null,
            "right": null,
            "justify_content": null,
            "_view_module": "@jupyter-widgets/base",
            "overflow": null,
            "_model_module_version": "1.2.0",
            "_view_count": null,
            "flex_flow": null,
            "width": null,
            "min_width": null,
            "border": null,
            "align_items": null,
            "bottom": null,
            "_model_module": "@jupyter-widgets/base",
            "top": null,
            "grid_column": null,
            "overflow_y": null,
            "overflow_x": null,
            "grid_auto_flow": null,
            "grid_area": null,
            "grid_template_columns": null,
            "flex": null,
            "_model_name": "LayoutModel",
            "justify_items": null,
            "grid_row": null,
            "max_height": null,
            "align_content": null,
            "visibility": null,
            "align_self": null,
            "height": null,
            "min_height": null,
            "padding": null,
            "grid_auto_rows": null,
            "grid_gap": null,
            "max_width": null,
            "order": null,
            "_view_module_version": "1.2.0",
            "grid_template_areas": null,
            "object_position": null,
            "object_fit": null,
            "grid_auto_columns": null,
            "margin": null,
            "display": null,
            "left": null
          }
        },
        "468781e6f786418eae5c9ba14625249f": {
          "model_module": "@jupyter-widgets/controls",
          "model_name": "HBoxModel",
          "model_module_version": "1.5.0",
          "state": {
            "_view_name": "HBoxView",
            "_dom_classes": [],
            "_model_name": "HBoxModel",
            "_view_module": "@jupyter-widgets/controls",
            "_model_module_version": "1.5.0",
            "_view_count": null,
            "_view_module_version": "1.5.0",
            "box_style": "",
            "layout": "IPY_MODEL_aff61a7778e547e1954e454defd79dca",
            "_model_module": "@jupyter-widgets/controls",
            "children": [
              "IPY_MODEL_dfa876c962e84cddb12ddafa79c6d306",
              "IPY_MODEL_afe31ec0083e49a2b63da6c41ab45b05",
              "IPY_MODEL_ab1b579436e34771af565794cb332641"
            ]
          }
        },
        "aff61a7778e547e1954e454defd79dca": {
          "model_module": "@jupyter-widgets/base",
          "model_name": "LayoutModel",
          "model_module_version": "1.2.0",
          "state": {
            "_view_name": "LayoutView",
            "grid_template_rows": null,
            "right": null,
            "justify_content": null,
            "_view_module": "@jupyter-widgets/base",
            "overflow": null,
            "_model_module_version": "1.2.0",
            "_view_count": null,
            "flex_flow": null,
            "width": null,
            "min_width": null,
            "border": null,
            "align_items": null,
            "bottom": null,
            "_model_module": "@jupyter-widgets/base",
            "top": null,
            "grid_column": null,
            "overflow_y": null,
            "overflow_x": null,
            "grid_auto_flow": null,
            "grid_area": null,
            "grid_template_columns": null,
            "flex": null,
            "_model_name": "LayoutModel",
            "justify_items": null,
            "grid_row": null,
            "max_height": null,
            "align_content": null,
            "visibility": null,
            "align_self": null,
            "height": null,
            "min_height": null,
            "padding": null,
            "grid_auto_rows": null,
            "grid_gap": null,
            "max_width": null,
            "order": null,
            "_view_module_version": "1.2.0",
            "grid_template_areas": null,
            "object_position": null,
            "object_fit": null,
            "grid_auto_columns": null,
            "margin": null,
            "display": null,
            "left": null
          }
        },
        "dfa876c962e84cddb12ddafa79c6d306": {
          "model_module": "@jupyter-widgets/controls",
          "model_name": "HTMLModel",
          "model_module_version": "1.5.0",
          "state": {
            "_view_name": "HTMLView",
            "style": "IPY_MODEL_57c4d4eed21d4dee9f00349cc659bd01",
            "_dom_classes": [],
            "description": "",
            "_model_name": "HTMLModel",
            "placeholder": "​",
            "_view_module": "@jupyter-widgets/controls",
            "_model_module_version": "1.5.0",
            "value": "Downloading: 100%",
            "_view_count": null,
            "_view_module_version": "1.5.0",
            "description_tooltip": null,
            "_model_module": "@jupyter-widgets/controls",
            "layout": "IPY_MODEL_a1599698e81a42fbbbcb0fbd7c5eda7f"
          }
        },
        "afe31ec0083e49a2b63da6c41ab45b05": {
          "model_module": "@jupyter-widgets/controls",
          "model_name": "FloatProgressModel",
          "model_module_version": "1.5.0",
          "state": {
            "_view_name": "ProgressView",
            "style": "IPY_MODEL_6649d81ce78e43459187a55bc6d95578",
            "_dom_classes": [],
            "description": "",
            "_model_name": "FloatProgressModel",
            "bar_style": "success",
            "max": 466062,
            "_view_module": "@jupyter-widgets/controls",
            "_model_module_version": "1.5.0",
            "value": 466062,
            "_view_count": null,
            "_view_module_version": "1.5.0",
            "orientation": "horizontal",
            "min": 0,
            "description_tooltip": null,
            "_model_module": "@jupyter-widgets/controls",
            "layout": "IPY_MODEL_05750d4a4d9e4e99afff643727e2326c"
          }
        },
        "ab1b579436e34771af565794cb332641": {
          "model_module": "@jupyter-widgets/controls",
          "model_name": "HTMLModel",
          "model_module_version": "1.5.0",
          "state": {
            "_view_name": "HTMLView",
            "style": "IPY_MODEL_4bea23742fd6482296e69f201172e4d3",
            "_dom_classes": [],
            "description": "",
            "_model_name": "HTMLModel",
            "placeholder": "​",
            "_view_module": "@jupyter-widgets/controls",
            "_model_module_version": "1.5.0",
            "value": " 466k/466k [00:00&lt;00:00, 728kB/s]",
            "_view_count": null,
            "_view_module_version": "1.5.0",
            "description_tooltip": null,
            "_model_module": "@jupyter-widgets/controls",
            "layout": "IPY_MODEL_9b743f96cedc4031b8336ddb6d65e361"
          }
        },
        "57c4d4eed21d4dee9f00349cc659bd01": {
          "model_module": "@jupyter-widgets/controls",
          "model_name": "DescriptionStyleModel",
          "model_module_version": "1.5.0",
          "state": {
            "_view_name": "StyleView",
            "_model_name": "DescriptionStyleModel",
            "description_width": "",
            "_view_module": "@jupyter-widgets/base",
            "_model_module_version": "1.5.0",
            "_view_count": null,
            "_view_module_version": "1.2.0",
            "_model_module": "@jupyter-widgets/controls"
          }
        },
        "a1599698e81a42fbbbcb0fbd7c5eda7f": {
          "model_module": "@jupyter-widgets/base",
          "model_name": "LayoutModel",
          "model_module_version": "1.2.0",
          "state": {
            "_view_name": "LayoutView",
            "grid_template_rows": null,
            "right": null,
            "justify_content": null,
            "_view_module": "@jupyter-widgets/base",
            "overflow": null,
            "_model_module_version": "1.2.0",
            "_view_count": null,
            "flex_flow": null,
            "width": null,
            "min_width": null,
            "border": null,
            "align_items": null,
            "bottom": null,
            "_model_module": "@jupyter-widgets/base",
            "top": null,
            "grid_column": null,
            "overflow_y": null,
            "overflow_x": null,
            "grid_auto_flow": null,
            "grid_area": null,
            "grid_template_columns": null,
            "flex": null,
            "_model_name": "LayoutModel",
            "justify_items": null,
            "grid_row": null,
            "max_height": null,
            "align_content": null,
            "visibility": null,
            "align_self": null,
            "height": null,
            "min_height": null,
            "padding": null,
            "grid_auto_rows": null,
            "grid_gap": null,
            "max_width": null,
            "order": null,
            "_view_module_version": "1.2.0",
            "grid_template_areas": null,
            "object_position": null,
            "object_fit": null,
            "grid_auto_columns": null,
            "margin": null,
            "display": null,
            "left": null
          }
        },
        "6649d81ce78e43459187a55bc6d95578": {
          "model_module": "@jupyter-widgets/controls",
          "model_name": "ProgressStyleModel",
          "model_module_version": "1.5.0",
          "state": {
            "_view_name": "StyleView",
            "_model_name": "ProgressStyleModel",
            "description_width": "",
            "_view_module": "@jupyter-widgets/base",
            "_model_module_version": "1.5.0",
            "_view_count": null,
            "_view_module_version": "1.2.0",
            "bar_color": null,
            "_model_module": "@jupyter-widgets/controls"
          }
        },
        "05750d4a4d9e4e99afff643727e2326c": {
          "model_module": "@jupyter-widgets/base",
          "model_name": "LayoutModel",
          "model_module_version": "1.2.0",
          "state": {
            "_view_name": "LayoutView",
            "grid_template_rows": null,
            "right": null,
            "justify_content": null,
            "_view_module": "@jupyter-widgets/base",
            "overflow": null,
            "_model_module_version": "1.2.0",
            "_view_count": null,
            "flex_flow": null,
            "width": null,
            "min_width": null,
            "border": null,
            "align_items": null,
            "bottom": null,
            "_model_module": "@jupyter-widgets/base",
            "top": null,
            "grid_column": null,
            "overflow_y": null,
            "overflow_x": null,
            "grid_auto_flow": null,
            "grid_area": null,
            "grid_template_columns": null,
            "flex": null,
            "_model_name": "LayoutModel",
            "justify_items": null,
            "grid_row": null,
            "max_height": null,
            "align_content": null,
            "visibility": null,
            "align_self": null,
            "height": null,
            "min_height": null,
            "padding": null,
            "grid_auto_rows": null,
            "grid_gap": null,
            "max_width": null,
            "order": null,
            "_view_module_version": "1.2.0",
            "grid_template_areas": null,
            "object_position": null,
            "object_fit": null,
            "grid_auto_columns": null,
            "margin": null,
            "display": null,
            "left": null
          }
        },
        "4bea23742fd6482296e69f201172e4d3": {
          "model_module": "@jupyter-widgets/controls",
          "model_name": "DescriptionStyleModel",
          "model_module_version": "1.5.0",
          "state": {
            "_view_name": "StyleView",
            "_model_name": "DescriptionStyleModel",
            "description_width": "",
            "_view_module": "@jupyter-widgets/base",
            "_model_module_version": "1.5.0",
            "_view_count": null,
            "_view_module_version": "1.2.0",
            "_model_module": "@jupyter-widgets/controls"
          }
        },
        "9b743f96cedc4031b8336ddb6d65e361": {
          "model_module": "@jupyter-widgets/base",
          "model_name": "LayoutModel",
          "model_module_version": "1.2.0",
          "state": {
            "_view_name": "LayoutView",
            "grid_template_rows": null,
            "right": null,
            "justify_content": null,
            "_view_module": "@jupyter-widgets/base",
            "overflow": null,
            "_model_module_version": "1.2.0",
            "_view_count": null,
            "flex_flow": null,
            "width": null,
            "min_width": null,
            "border": null,
            "align_items": null,
            "bottom": null,
            "_model_module": "@jupyter-widgets/base",
            "top": null,
            "grid_column": null,
            "overflow_y": null,
            "overflow_x": null,
            "grid_auto_flow": null,
            "grid_area": null,
            "grid_template_columns": null,
            "flex": null,
            "_model_name": "LayoutModel",
            "justify_items": null,
            "grid_row": null,
            "max_height": null,
            "align_content": null,
            "visibility": null,
            "align_self": null,
            "height": null,
            "min_height": null,
            "padding": null,
            "grid_auto_rows": null,
            "grid_gap": null,
            "max_width": null,
            "order": null,
            "_view_module_version": "1.2.0",
            "grid_template_areas": null,
            "object_position": null,
            "object_fit": null,
            "grid_auto_columns": null,
            "margin": null,
            "display": null,
            "left": null
          }
        }
      }
    }
  },
  "cells": [
    {
      "cell_type": "markdown",
      "metadata": {
        "id": "view-in-github",
        "colab_type": "text"
      },
      "source": [
        "<a href=\"https://colab.research.google.com/github/Clara-breado/AT_spider_v0/blob/main/text_classification_with_transformers_public.ipynb\" target=\"_parent\"><img src=\"https://colab.research.google.com/assets/colab-badge.svg\" alt=\"Open In Colab\"/></a>"
      ]
    },
    {
      "cell_type": "markdown",
      "metadata": {
        "id": "znQW5UmdsR3z"
      },
      "source": [
        "![text classification (1).png](data:image/png;base64,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)"
      ]
    },
    {
      "cell_type": "markdown",
      "metadata": {
        "id": "AzsxOQ3Vsb78"
      },
      "source": [
        "By Eric Fillion @ Vennify.ai\n",
        "\n",
        "Article: https://www.vennify.ai/train-text-classification-transformers/\n",
        "\n",
        "Video: https://youtu.be/KxyjRyk2Hq8\n",
        "\n"
      ]
    },
    {
      "cell_type": "markdown",
      "metadata": {
        "id": "dD-eRd4Puftz"
      },
      "source": [
        "# Installation\n"
      ]
    },
    {
      "cell_type": "markdown",
      "metadata": {
        "id": "xq82-LGzulKb"
      },
      "source": [
        "https://happytransformer.com/"
      ]
    },
    {
      "cell_type": "code",
      "metadata": {
        "colab": {
          "base_uri": "https://localhost:8080/"
        },
        "id": "WvsB028arLHK",
        "outputId": "37336aa5-4f1d-449b-bfb0-e8e6e3770936"
      },
      "source": [
        "pip install happytransformer"
      ],
      "execution_count": 1,
      "outputs": [
        {
          "output_type": "stream",
          "text": [
            "Collecting happytransformer\n",
            "  Downloading happytransformer-2.3.0-py3-none-any.whl (44 kB)\n",
            "\u001b[?25l\r\u001b[K     |███████▍                        | 10 kB 22.1 MB/s eta 0:00:01\r\u001b[K     |██████████████▊                 | 20 kB 24.0 MB/s eta 0:00:01\r\u001b[K     |██████████████████████          | 30 kB 26.3 MB/s eta 0:00:01\r\u001b[K     |█████████████████████████████▌  | 40 kB 19.2 MB/s eta 0:00:01\r\u001b[K     |████████████████████████████████| 44 kB 2.5 MB/s \n",
            "\u001b[?25hCollecting datasets>=1.6.0\n",
            "  Downloading datasets-1.11.0-py3-none-any.whl (264 kB)\n",
            "\u001b[?25l\r\u001b[K     |█▎                              | 10 kB 35.4 MB/s eta 0:00:01\r\u001b[K     |██▌                             | 20 kB 33.6 MB/s eta 0:00:01\r\u001b[K     |███▊                            | 30 kB 37.4 MB/s eta 0:00:01\r\u001b[K     |█████                           | 40 kB 41.1 MB/s eta 0:00:01\r\u001b[K     |██████▏                         | 51 kB 44.2 MB/s eta 0:00:01\r\u001b[K     |███████▍                        | 61 kB 17.0 MB/s eta 0:00:01\r\u001b[K     |████████▋                       | 71 kB 18.4 MB/s eta 0:00:01\r\u001b[K     |██████████                      | 81 kB 19.0 MB/s eta 0:00:01\r\u001b[K     |███████████▏                    | 92 kB 20.5 MB/s eta 0:00:01\r\u001b[K     |████████████▍                   | 102 kB 22.0 MB/s eta 0:00:01\r\u001b[K     |█████████████▋                  | 112 kB 22.0 MB/s eta 0:00:01\r\u001b[K     |██████████████▉                 | 122 kB 22.0 MB/s eta 0:00:01\r\u001b[K     |████████████████                | 133 kB 22.0 MB/s eta 0:00:01\r\u001b[K     |█████████████████▎              | 143 kB 22.0 MB/s eta 0:00:01\r\u001b[K     |██████████████████▋             | 153 kB 22.0 MB/s eta 0:00:01\r\u001b[K     |███████████████████▉            | 163 kB 22.0 MB/s eta 0:00:01\r\u001b[K     |█████████████████████           | 174 kB 22.0 MB/s eta 0:00:01\r\u001b[K     |██████████████████████▎         | 184 kB 22.0 MB/s eta 0:00:01\r\u001b[K     |███████████████████████▌        | 194 kB 22.0 MB/s eta 0:00:01\r\u001b[K     |████████████████████████▊       | 204 kB 22.0 MB/s eta 0:00:01\r\u001b[K     |██████████████████████████      | 215 kB 22.0 MB/s eta 0:00:01\r\u001b[K     |███████████████████████████▏    | 225 kB 22.0 MB/s eta 0:00:01\r\u001b[K     |████████████████████████████▌   | 235 kB 22.0 MB/s eta 0:00:01\r\u001b[K     |█████████████████████████████▊  | 245 kB 22.0 MB/s eta 0:00:01\r\u001b[K     |███████████████████████████████ | 256 kB 22.0 MB/s eta 0:00:01\r\u001b[K     |████████████████████████████████| 264 kB 22.0 MB/s \n",
            "\u001b[?25hRequirement already satisfied: protobuf in /usr/local/lib/python3.7/dist-packages (from happytransformer) (3.17.3)\n",
            "Requirement already satisfied: torch>=1.0 in /usr/local/lib/python3.7/dist-packages (from happytransformer) (1.9.0+cu102)\n",
            "Collecting sentencepiece\n",
            "  Downloading sentencepiece-0.1.96-cp37-cp37m-manylinux_2_17_x86_64.manylinux2014_x86_64.whl (1.2 MB)\n",
            "\u001b[K     |████████████████████████████████| 1.2 MB 40.6 MB/s \n",
            "\u001b[?25hRequirement already satisfied: tqdm>=4.43 in /usr/local/lib/python3.7/dist-packages (from happytransformer) (4.62.0)\n",
            "Collecting transformers>=4.4.0\n",
            "  Downloading transformers-4.9.2-py3-none-any.whl (2.6 MB)\n",
            "\u001b[K     |████████████████████████████████| 2.6 MB 35.8 MB/s \n",
            "\u001b[?25hRequirement already satisfied: multiprocess in /usr/local/lib/python3.7/dist-packages (from datasets>=1.6.0->happytransformer) (0.70.12.2)\n",
            "Requirement already satisfied: dill in /usr/local/lib/python3.7/dist-packages (from datasets>=1.6.0->happytransformer) (0.3.4)\n",
            "Requirement already satisfied: pandas in /usr/local/lib/python3.7/dist-packages (from datasets>=1.6.0->happytransformer) (1.1.5)\n",
            "Requirement already satisfied: packaging in /usr/local/lib/python3.7/dist-packages (from datasets>=1.6.0->happytransformer) (21.0)\n",
            "Collecting xxhash\n",
            "  Downloading xxhash-2.0.2-cp37-cp37m-manylinux2010_x86_64.whl (243 kB)\n",
            "\u001b[K     |████████████████████████████████| 243 kB 45.9 MB/s \n",
            "\u001b[?25hRequirement already satisfied: pyarrow!=4.0.0,>=1.0.0 in /usr/local/lib/python3.7/dist-packages (from datasets>=1.6.0->happytransformer) (3.0.0)\n",
            "Collecting huggingface-hub<0.1.0\n",
            "  Downloading huggingface_hub-0.0.15-py3-none-any.whl (43 kB)\n",
            "\u001b[K     |████████████████████████████████| 43 kB 2.0 MB/s \n",
            "\u001b[?25hRequirement already satisfied: requests>=2.19.0 in /usr/local/lib/python3.7/dist-packages (from datasets>=1.6.0->happytransformer) (2.23.0)\n",
            "Collecting fsspec>=2021.05.0\n",
            "  Downloading fsspec-2021.7.0-py3-none-any.whl (118 kB)\n",
            "\u001b[K     |████████████████████████████████| 118 kB 49.2 MB/s \n",
            "\u001b[?25hRequirement already satisfied: importlib-metadata in /usr/local/lib/python3.7/dist-packages (from datasets>=1.6.0->happytransformer) (4.6.4)\n",
            "Requirement already satisfied: numpy>=1.17 in /usr/local/lib/python3.7/dist-packages (from datasets>=1.6.0->happytransformer) (1.19.5)\n",
            "Requirement already satisfied: filelock in /usr/local/lib/python3.7/dist-packages (from huggingface-hub<0.1.0->datasets>=1.6.0->happytransformer) (3.0.12)\n",
            "Requirement already satisfied: typing-extensions in /usr/local/lib/python3.7/dist-packages (from huggingface-hub<0.1.0->datasets>=1.6.0->happytransformer) (3.7.4.3)\n",
            "Requirement already satisfied: pyparsing>=2.0.2 in /usr/local/lib/python3.7/dist-packages (from packaging->datasets>=1.6.0->happytransformer) (2.4.7)\n",
            "Requirement already satisfied: idna<3,>=2.5 in /usr/local/lib/python3.7/dist-packages (from requests>=2.19.0->datasets>=1.6.0->happytransformer) (2.10)\n",
            "Requirement already satisfied: chardet<4,>=3.0.2 in /usr/local/lib/python3.7/dist-packages (from requests>=2.19.0->datasets>=1.6.0->happytransformer) (3.0.4)\n",
            "Requirement already satisfied: urllib3!=1.25.0,!=1.25.1,<1.26,>=1.21.1 in /usr/local/lib/python3.7/dist-packages (from requests>=2.19.0->datasets>=1.6.0->happytransformer) (1.24.3)\n",
            "Requirement already satisfied: certifi>=2017.4.17 in /usr/local/lib/python3.7/dist-packages (from requests>=2.19.0->datasets>=1.6.0->happytransformer) (2021.5.30)\n",
            "Collecting huggingface-hub<0.1.0\n",
            "  Downloading huggingface_hub-0.0.12-py3-none-any.whl (37 kB)\n",
            "Collecting sacremoses\n",
            "  Downloading sacremoses-0.0.45-py3-none-any.whl (895 kB)\n",
            "\u001b[K     |████████████████████████████████| 895 kB 33.1 MB/s \n",
            "\u001b[?25hCollecting pyyaml>=5.1\n",
            "  Downloading PyYAML-5.4.1-cp37-cp37m-manylinux1_x86_64.whl (636 kB)\n",
            "\u001b[K     |████████████████████████████████| 636 kB 41.9 MB/s \n",
            "\u001b[?25hRequirement already satisfied: regex!=2019.12.17 in /usr/local/lib/python3.7/dist-packages (from transformers>=4.4.0->happytransformer) (2019.12.20)\n",
            "Collecting tokenizers<0.11,>=0.10.1\n",
            "  Downloading tokenizers-0.10.3-cp37-cp37m-manylinux_2_5_x86_64.manylinux1_x86_64.manylinux_2_12_x86_64.manylinux2010_x86_64.whl (3.3 MB)\n",
            "\u001b[K     |████████████████████████████████| 3.3 MB 29.7 MB/s \n",
            "\u001b[?25hRequirement already satisfied: zipp>=0.5 in /usr/local/lib/python3.7/dist-packages (from importlib-metadata->datasets>=1.6.0->happytransformer) (3.5.0)\n",
            "Requirement already satisfied: python-dateutil>=2.7.3 in /usr/local/lib/python3.7/dist-packages (from pandas->datasets>=1.6.0->happytransformer) (2.8.2)\n",
            "Requirement already satisfied: pytz>=2017.2 in /usr/local/lib/python3.7/dist-packages (from pandas->datasets>=1.6.0->happytransformer) (2018.9)\n",
            "Requirement already satisfied: six>=1.5 in /usr/local/lib/python3.7/dist-packages (from python-dateutil>=2.7.3->pandas->datasets>=1.6.0->happytransformer) (1.15.0)\n",
            "Requirement already satisfied: click in /usr/local/lib/python3.7/dist-packages (from sacremoses->transformers>=4.4.0->happytransformer) (7.1.2)\n",
            "Requirement already satisfied: joblib in /usr/local/lib/python3.7/dist-packages (from sacremoses->transformers>=4.4.0->happytransformer) (1.0.1)\n",
            "Installing collected packages: xxhash, tokenizers, sacremoses, pyyaml, huggingface-hub, fsspec, transformers, sentencepiece, datasets, happytransformer\n",
            "  Attempting uninstall: pyyaml\n",
            "    Found existing installation: PyYAML 3.13\n",
            "    Uninstalling PyYAML-3.13:\n",
            "      Successfully uninstalled PyYAML-3.13\n",
            "Successfully installed datasets-1.11.0 fsspec-2021.7.0 happytransformer-2.3.0 huggingface-hub-0.0.12 pyyaml-5.4.1 sacremoses-0.0.45 sentencepiece-0.1.96 tokenizers-0.10.3 transformers-4.9.2 xxhash-2.0.2\n"
          ],
          "name": "stdout"
        }
      ]
    },
    {
      "cell_type": "markdown",
      "metadata": {
        "id": "WzBS9tE9ur--"
      },
      "source": [
        "# Instantiation"
      ]
    },
    {
      "cell_type": "code",
      "metadata": {
        "id": "QB0EB7iocL7D"
      },
      "source": [
        "from happytransformer import HappyTextClassification "
      ],
      "execution_count": 2,
      "outputs": []
    },
    {
      "cell_type": "code",
      "metadata": {
        "colab": {
          "base_uri": "https://localhost:8080/"
        },
        "id": "EXrh-95AcMB1",
        "outputId": "acf10c37-7bc7-4725-c4e3-a16d6aea44bb"
      },
      "source": [
        "happy_tc = HappyTextClassification(\"gpt2\", \"microsoft/DialoGPT-small\", num_labels=3)"
      ],
      "execution_count": 22,
      "outputs": [
        {
          "output_type": "stream",
          "text": [
            "Some weights of the model checkpoint at microsoft/DialoGPT-small were not used when initializing GPT2ForSequenceClassification: ['lm_head.weight']\n",
            "- This IS expected if you are initializing GPT2ForSequenceClassification from the checkpoint of a model trained on another task or with another architecture (e.g. initializing a BertForSequenceClassification model from a BertForPreTraining model).\n",
            "- This IS NOT expected if you are initializing GPT2ForSequenceClassification from the checkpoint of a model that you expect to be exactly identical (initializing a BertForSequenceClassification model from a BertForSequenceClassification model).\n",
            "Some weights of GPT2ForSequenceClassification were not initialized from the model checkpoint at microsoft/DialoGPT-small and are newly initialized: ['score.weight']\n",
            "You should probably TRAIN this model on a down-stream task to be able to use it for predictions and inference.\n",
            "08/24/2021 04:41:37 - INFO - happytransformer.happy_transformer -   Using model: cuda\n"
          ],
          "name": "stderr"
        }
      ]
    },
    {
      "cell_type": "code",
      "metadata": {
        "id": "js55mcL_eBJG",
        "outputId": "3b43f0a4-3b72-4a1e-f32a-b8645e43116e",
        "colab": {
          "base_uri": "https://localhost:8080/",
          "height": 299,
          "referenced_widgets": [
            "62474b7246984f9987955b42b2b37508",
            "733ffce0dd3a4c80bbf7ef5fac336e0d",
            "3a880db9400b4bf1ada19e5ed587095a",
            "010024156ac24270bc4093d524f3d297",
            "354120bff066446fa534eeda78be8f14",
            "3806675cbe064c2fbb530dab7e439b65",
            "5c3d330e5be74f98ba1482c64cc86341",
            "7668c15f16334219a3dfac624c581d2a",
            "2e7872c40f6940788ab41999fa02c7fc",
            "6f8a09729fad40b9b3f0ab35bb08d0e8",
            "96e36ddc51cd4929a531f83e1e5be58a",
            "a900f29b33824ba1912396b571128f75",
            "1084d55d43f147588820da172393020b",
            "04bf95fcda7149519f643d637b9b61bf",
            "9d55cc695a534bf38876a7925e044a07",
            "ea3b2f3d6a2e4e1dabbef8f1ee4b3b7c",
            "072bee2b6a1040f7b67f793250398c1b",
            "b042ca126bd24cf58048896192043cd0",
            "8973b31f41e4491ca7ef104d38fb18f7",
            "940f77dbf2f643309dffb696c0c47943",
            "d7f80ca99ee7494da68ddc6a620acead",
            "99f1d40a380141869220b96a45c1f136",
            "73958b467d8e41368b5d716453918e45",
            "7587102c2271436bbbba061ac1014c73",
            "ff14c3b26f3b435f869ec4c14a3c7f89",
            "fed70f803d234c28aa0158f5524fddd0",
            "490522d889b34630a54e5d23ffc5522a",
            "eaedf003e9054581a6907a1fdde265fe",
            "19448f1152664fb0af5dfabb60fbee58",
            "c51d93a8c6284101a527c187ebb0a779",
            "b39ef8becbe741bf9b0daea6f1d545be",
            "ae445bf9feaa4778b1ae3957f615f0a6",
            "713f030bda484fd4aa5b07939c044bfc",
            "d2d7ed1d43c24af0bf7276874a09bc96",
            "a6bd0e7520f34c5a92a893b718d3ba1b",
            "459a66d6116e4fa3aabfbb1949b90655",
            "96e698c37db644ceac89cbd5a1efc495",
            "34fd763d3f0a4a0d814d0054e5e2218b",
            "1d44eee7038848da8d65fca5b8bf124f",
            "f4806105bdcb4ad9a6c8eb20b7b18af8",
            "0aec282fef1f4e56bc883cc2a7f26d9d",
            "6aeb664bde904b4ab6d6350e91792cc5",
            "7c11cd858b604bf0a4853c6f9a5fef8d",
            "67f23411a3d6494b88d8f2b20852fe86",
            "468781e6f786418eae5c9ba14625249f",
            "aff61a7778e547e1954e454defd79dca",
            "dfa876c962e84cddb12ddafa79c6d306",
            "afe31ec0083e49a2b63da6c41ab45b05",
            "ab1b579436e34771af565794cb332641",
            "57c4d4eed21d4dee9f00349cc659bd01",
            "a1599698e81a42fbbbcb0fbd7c5eda7f",
            "6649d81ce78e43459187a55bc6d95578",
            "05750d4a4d9e4e99afff643727e2326c",
            "4bea23742fd6482296e69f201172e4d3",
            "9b743f96cedc4031b8336ddb6d65e361"
          ]
        }
      },
      "source": [
        "bert = HappyTextClassification(\"DISTILBERT\", \"distilbert-base-uncased\",num_labels=3)"
      ],
      "execution_count": 30,
      "outputs": [
        {
          "output_type": "display_data",
          "data": {
            "application/vnd.jupyter.widget-view+json": {
              "model_id": "62474b7246984f9987955b42b2b37508",
              "version_minor": 0,
              "version_major": 2
            },
            "text/plain": [
              "Downloading:   0%|          | 0.00/442 [00:00<?, ?B/s]"
            ]
          },
          "metadata": {}
        },
        {
          "output_type": "display_data",
          "data": {
            "application/vnd.jupyter.widget-view+json": {
              "model_id": "a900f29b33824ba1912396b571128f75",
              "version_minor": 0,
              "version_major": 2
            },
            "text/plain": [
              "Downloading:   0%|          | 0.00/268M [00:00<?, ?B/s]"
            ]
          },
          "metadata": {}
        },
        {
          "output_type": "stream",
          "text": [
            "Some weights of the model checkpoint at distilbert-base-uncased were not used when initializing DistilBertForSequenceClassification: ['vocab_layer_norm.weight', 'vocab_projector.weight', 'vocab_layer_norm.bias', 'vocab_transform.bias', 'vocab_transform.weight', 'vocab_projector.bias']\n",
            "- This IS expected if you are initializing DistilBertForSequenceClassification from the checkpoint of a model trained on another task or with another architecture (e.g. initializing a BertForSequenceClassification model from a BertForPreTraining model).\n",
            "- This IS NOT expected if you are initializing DistilBertForSequenceClassification from the checkpoint of a model that you expect to be exactly identical (initializing a BertForSequenceClassification model from a BertForSequenceClassification model).\n",
            "Some weights of DistilBertForSequenceClassification were not initialized from the model checkpoint at distilbert-base-uncased and are newly initialized: ['classifier.weight', 'pre_classifier.bias', 'classifier.bias', 'pre_classifier.weight']\n",
            "You should probably TRAIN this model on a down-stream task to be able to use it for predictions and inference.\n"
          ],
          "name": "stderr"
        },
        {
          "output_type": "display_data",
          "data": {
            "application/vnd.jupyter.widget-view+json": {
              "model_id": "73958b467d8e41368b5d716453918e45",
              "version_minor": 0,
              "version_major": 2
            },
            "text/plain": [
              "Downloading:   0%|          | 0.00/28.0 [00:00<?, ?B/s]"
            ]
          },
          "metadata": {}
        },
        {
          "output_type": "display_data",
          "data": {
            "application/vnd.jupyter.widget-view+json": {
              "model_id": "d2d7ed1d43c24af0bf7276874a09bc96",
              "version_minor": 0,
              "version_major": 2
            },
            "text/plain": [
              "Downloading:   0%|          | 0.00/232k [00:00<?, ?B/s]"
            ]
          },
          "metadata": {}
        },
        {
          "output_type": "display_data",
          "data": {
            "application/vnd.jupyter.widget-view+json": {
              "model_id": "468781e6f786418eae5c9ba14625249f",
              "version_minor": 0,
              "version_major": 2
            },
            "text/plain": [
              "Downloading:   0%|          | 0.00/466k [00:00<?, ?B/s]"
            ]
          },
          "metadata": {}
        },
        {
          "output_type": "stream",
          "text": [
            "08/24/2021 04:43:44 - INFO - happytransformer.happy_transformer -   Using model: cuda\n"
          ],
          "name": "stderr"
        }
      ]
    },
    {
      "cell_type": "code",
      "metadata": {
        "id": "14cfYC5-cpVN"
      },
      "source": [
        "happy_tc.tokenizer.pad_token = happy_tc.tokenizer.eos_token"
      ],
      "execution_count": 23,
      "outputs": []
    },
    {
      "cell_type": "code",
      "metadata": {
        "id": "2KX1-vgcdILM",
        "outputId": "265bb4e2-738d-4458-c679-d2a5f53a99f9",
        "colab": {
          "base_uri": "https://localhost:8080/"
        }
      },
      "source": [
        "happy_tc.tokenizer"
      ],
      "execution_count": 24,
      "outputs": [
        {
          "output_type": "execute_result",
          "data": {
            "text/plain": [
              "PreTrainedTokenizerFast(name_or_path='microsoft/DialoGPT-small', vocab_size=50257, model_max_len=1024, is_fast=True, padding_side='right', special_tokens={'bos_token': AddedToken(\"<|endoftext|>\", rstrip=False, lstrip=False, single_word=False, normalized=True), 'eos_token': AddedToken(\"<|endoftext|>\", rstrip=False, lstrip=False, single_word=False, normalized=True), 'unk_token': AddedToken(\"<|endoftext|>\", rstrip=False, lstrip=False, single_word=False, normalized=True), 'pad_token': '<|endoftext|>'})"
            ]
          },
          "metadata": {},
          "execution_count": 24
        }
      ]
    },
    {
      "cell_type": "code",
      "metadata": {
        "id": "KNI3DGkRdVRM",
        "outputId": "157d3b65-dd23-4925-f6fa-fe6a11609f0f",
        "colab": {
          "base_uri": "https://localhost:8080/"
        }
      },
      "source": [
        "happy_tc.model.config"
      ],
      "execution_count": 25,
      "outputs": [
        {
          "output_type": "execute_result",
          "data": {
            "text/plain": [
              "GPT2Config {\n",
              "  \"_name_or_path\": \"microsoft/DialoGPT-small\",\n",
              "  \"activation_function\": \"gelu_new\",\n",
              "  \"architectures\": [\n",
              "    \"GPT2LMHeadModel\"\n",
              "  ],\n",
              "  \"attn_pdrop\": 0.1,\n",
              "  \"bos_token_id\": 50256,\n",
              "  \"embd_pdrop\": 0.1,\n",
              "  \"eos_token_id\": 50256,\n",
              "  \"gradient_checkpointing\": false,\n",
              "  \"id2label\": {\n",
              "    \"0\": \"LABEL_0\",\n",
              "    \"1\": \"LABEL_1\",\n",
              "    \"2\": \"LABEL_2\"\n",
              "  },\n",
              "  \"initializer_range\": 0.02,\n",
              "  \"label2id\": {\n",
              "    \"LABEL_0\": 0,\n",
              "    \"LABEL_1\": 1,\n",
              "    \"LABEL_2\": 2\n",
              "  },\n",
              "  \"layer_norm_epsilon\": 1e-05,\n",
              "  \"model_type\": \"gpt2\",\n",
              "  \"n_ctx\": 1024,\n",
              "  \"n_embd\": 768,\n",
              "  \"n_head\": 12,\n",
              "  \"n_inner\": null,\n",
              "  \"n_layer\": 12,\n",
              "  \"n_positions\": 1024,\n",
              "  \"resid_pdrop\": 0.1,\n",
              "  \"scale_attn_weights\": true,\n",
              "  \"summary_activation\": null,\n",
              "  \"summary_first_dropout\": 0.1,\n",
              "  \"summary_proj_to_labels\": true,\n",
              "  \"summary_type\": \"cls_index\",\n",
              "  \"summary_use_proj\": true,\n",
              "  \"task_specific_params\": {\n",
              "    \"conversational\": {\n",
              "      \"max_length\": 1000\n",
              "    }\n",
              "  },\n",
              "  \"transformers_version\": \"4.9.2\",\n",
              "  \"use_cache\": true,\n",
              "  \"vocab_size\": 50257\n",
              "}"
            ]
          },
          "metadata": {},
          "execution_count": 25
        }
      ]
    },
    {
      "cell_type": "markdown",
      "metadata": {
        "id": "NDXpKKMluvQq"
      },
      "source": [
        "# Usage"
      ]
    },
    {
      "cell_type": "code",
      "metadata": {
        "id": "6U-SiQSCFwhR"
      },
      "source": [
        "result = happy_tc.classify_text(\"Tesla's stock just increased by 20%\")"
      ],
      "execution_count": 26,
      "outputs": []
    },
    {
      "cell_type": "code",
      "metadata": {
        "id": "-K4YGI58eQbt",
        "outputId": "1f50b385-a952-4478-f89b-2ce3f58483a5",
        "colab": {
          "base_uri": "https://localhost:8080/"
        }
      },
      "source": [
        "bert.classify_text(\"Tesla's stock just increased by 20%\")"
      ],
      "execution_count": 31,
      "outputs": [
        {
          "output_type": "execute_result",
          "data": {
            "text/plain": [
              "TextClassificationResult(label='LABEL_2', score=0.3583657145500183)"
            ]
          },
          "metadata": {},
          "execution_count": 31
        }
      ]
    },
    {
      "cell_type": "code",
      "metadata": {
        "id": "VnUef0-iebH1"
      },
      "source": [
        "bert."
      ],
      "execution_count": null,
      "outputs": []
    },
    {
      "cell_type": "code",
      "metadata": {
        "colab": {
          "base_uri": "https://localhost:8080/"
        },
        "id": "7oClxJicHq_5",
        "outputId": "39d685fe-fd17-4923-82a1-aecb78cf3789"
      },
      "source": [
        "print(result)"
      ],
      "execution_count": 27,
      "outputs": [
        {
          "output_type": "stream",
          "text": [
            "TextClassificationResult(label='LABEL_2', score=0.9999216198921204)\n"
          ],
          "name": "stdout"
        }
      ]
    },
    {
      "cell_type": "code",
      "metadata": {
        "colab": {
          "base_uri": "https://localhost:8080/"
        },
        "id": "W-kurl30H7yS",
        "outputId": "0a6f616b-af08-4223-88b3-9083559b362f"
      },
      "source": [
        "print(result.label)\n",
        "print(result.score)"
      ],
      "execution_count": 17,
      "outputs": [
        {
          "output_type": "stream",
          "text": [
            "LABEL_1\n",
            "0.9978518486022949\n"
          ],
          "name": "stdout"
        }
      ]
    },
    {
      "cell_type": "code",
      "metadata": {
        "colab": {
          "base_uri": "https://localhost:8080/"
        },
        "id": "F2APSttB4sme",
        "outputId": "631685f3-069b-4163-e43b-eb8d8c3e5e3d"
      },
      "source": [
        "result = happy_tc.classify_text(\"The price of gold just what the hate you by 5%\")\n",
        "print(result.label)\n",
        "print(result.score)"
      ],
      "execution_count": 29,
      "outputs": [
        {
          "output_type": "stream",
          "text": [
            "LABEL_2\n",
            "0.9998976588249207\n"
          ],
          "name": "stdout"
        }
      ]
    },
    {
      "cell_type": "markdown",
      "metadata": {
        "id": "uiF1d-V-u8Cp"
      },
      "source": [
        "# Training – NLP Sentiment Analysis "
      ]
    },
    {
      "cell_type": "markdown",
      "metadata": {
        "id": "4zPSGrMkeCQd"
      },
      "source": [
        "https://huggingface.co/distilbert-base-uncased\n",
        "\n"
      ]
    },
    {
      "cell_type": "markdown",
      "metadata": {
        "id": "VLp_Kc1xghs9"
      },
      "source": [
        "https://www.vennify.ai/train-text-classification-transformers/"
      ]
    },
    {
      "cell_type": "code",
      "metadata": {
        "colab": {
          "base_uri": "https://localhost:8080/"
        },
        "id": "9ZcPDlXZ5Uit",
        "outputId": "c59eb012-b1dd-40d6-8436-696674e89907"
      },
      "source": [
        "happy_tc = HappyTextClassification(\"DISTILBERT\", \"distilbert-base-uncased\", num_labels=3)"
      ],
      "execution_count": 47,
      "outputs": [
        {
          "output_type": "stream",
          "text": [
            "loading configuration file https://huggingface.co/distilbert-base-uncased/resolve/main/config.json from cache at /root/.cache/huggingface/transformers/23454919702d26495337f3da04d1655c7ee010d5ec9d77bdb9e399e00302c0a1.d423bdf2f58dc8b77d5f5d18028d7ae4a72dcfd8f468e81fe979ada957a8c361\n",
            "Model config DistilBertConfig {\n",
            "  \"activation\": \"gelu\",\n",
            "  \"architectures\": [\n",
            "    \"DistilBertForMaskedLM\"\n",
            "  ],\n",
            "  \"attention_dropout\": 0.1,\n",
            "  \"dim\": 768,\n",
            "  \"dropout\": 0.1,\n",
            "  \"hidden_dim\": 3072,\n",
            "  \"id2label\": {\n",
            "    \"0\": \"LABEL_0\",\n",
            "    \"1\": \"LABEL_1\",\n",
            "    \"2\": \"LABEL_2\"\n",
            "  },\n",
            "  \"initializer_range\": 0.02,\n",
            "  \"label2id\": {\n",
            "    \"LABEL_0\": 0,\n",
            "    \"LABEL_1\": 1,\n",
            "    \"LABEL_2\": 2\n",
            "  },\n",
            "  \"max_position_embeddings\": 512,\n",
            "  \"model_type\": \"distilbert\",\n",
            "  \"n_heads\": 12,\n",
            "  \"n_layers\": 6,\n",
            "  \"pad_token_id\": 0,\n",
            "  \"qa_dropout\": 0.1,\n",
            "  \"seq_classif_dropout\": 0.2,\n",
            "  \"sinusoidal_pos_embds\": false,\n",
            "  \"tie_weights_\": true,\n",
            "  \"transformers_version\": \"4.9.2\",\n",
            "  \"vocab_size\": 30522\n",
            "}\n",
            "\n",
            "loading weights file https://huggingface.co/distilbert-base-uncased/resolve/main/pytorch_model.bin from cache at /root/.cache/huggingface/transformers/9c169103d7e5a73936dd2b627e42851bec0831212b677c637033ee4bce9ab5ee.126183e36667471617ae2f0835fab707baa54b731f991507ebbb55ea85adb12a\n",
            "Some weights of the model checkpoint at distilbert-base-uncased were not used when initializing DistilBertForSequenceClassification: ['vocab_layer_norm.weight', 'vocab_projector.weight', 'vocab_layer_norm.bias', 'vocab_transform.bias', 'vocab_transform.weight', 'vocab_projector.bias']\n",
            "- This IS expected if you are initializing DistilBertForSequenceClassification from the checkpoint of a model trained on another task or with another architecture (e.g. initializing a BertForSequenceClassification model from a BertForPreTraining model).\n",
            "- This IS NOT expected if you are initializing DistilBertForSequenceClassification from the checkpoint of a model that you expect to be exactly identical (initializing a BertForSequenceClassification model from a BertForSequenceClassification model).\n",
            "Some weights of DistilBertForSequenceClassification were not initialized from the model checkpoint at distilbert-base-uncased and are newly initialized: ['classifier.weight', 'pre_classifier.bias', 'classifier.bias', 'pre_classifier.weight']\n",
            "You should probably TRAIN this model on a down-stream task to be able to use it for predictions and inference.\n",
            "loading configuration file https://huggingface.co/distilbert-base-uncased/resolve/main/config.json from cache at /root/.cache/huggingface/transformers/23454919702d26495337f3da04d1655c7ee010d5ec9d77bdb9e399e00302c0a1.d423bdf2f58dc8b77d5f5d18028d7ae4a72dcfd8f468e81fe979ada957a8c361\n",
            "Model config DistilBertConfig {\n",
            "  \"activation\": \"gelu\",\n",
            "  \"architectures\": [\n",
            "    \"DistilBertForMaskedLM\"\n",
            "  ],\n",
            "  \"attention_dropout\": 0.1,\n",
            "  \"dim\": 768,\n",
            "  \"dropout\": 0.1,\n",
            "  \"hidden_dim\": 3072,\n",
            "  \"initializer_range\": 0.02,\n",
            "  \"max_position_embeddings\": 512,\n",
            "  \"model_type\": \"distilbert\",\n",
            "  \"n_heads\": 12,\n",
            "  \"n_layers\": 6,\n",
            "  \"pad_token_id\": 0,\n",
            "  \"qa_dropout\": 0.1,\n",
            "  \"seq_classif_dropout\": 0.2,\n",
            "  \"sinusoidal_pos_embds\": false,\n",
            "  \"tie_weights_\": true,\n",
            "  \"transformers_version\": \"4.9.2\",\n",
            "  \"vocab_size\": 30522\n",
            "}\n",
            "\n",
            "loading file https://huggingface.co/distilbert-base-uncased/resolve/main/vocab.txt from cache at /root/.cache/huggingface/transformers/0e1bbfda7f63a99bb52e3915dcf10c3c92122b827d92eb2d34ce94ee79ba486c.d789d64ebfe299b0e416afc4a169632f903f693095b4629a7ea271d5a0cf2c99\n",
            "loading file https://huggingface.co/distilbert-base-uncased/resolve/main/tokenizer.json from cache at /root/.cache/huggingface/transformers/75abb59d7a06f4f640158a9bfcde005264e59e8d566781ab1415b139d2e4c603.7f2721073f19841be16f41b0a70b600ca6b880c8f3df6f3535cbc704371bdfa4\n",
            "loading file https://huggingface.co/distilbert-base-uncased/resolve/main/added_tokens.json from cache at None\n",
            "loading file https://huggingface.co/distilbert-base-uncased/resolve/main/special_tokens_map.json from cache at None\n",
            "loading file https://huggingface.co/distilbert-base-uncased/resolve/main/tokenizer_config.json from cache at /root/.cache/huggingface/transformers/8c8624b8ac8aa99c60c912161f8332de003484428c47906d7ff7eb7f73eecdbb.20430bd8e10ef77a7d2977accefe796051e01bc2fc4aa146bc862997a1a15e79\n",
            "loading configuration file https://huggingface.co/distilbert-base-uncased/resolve/main/config.json from cache at /root/.cache/huggingface/transformers/23454919702d26495337f3da04d1655c7ee010d5ec9d77bdb9e399e00302c0a1.d423bdf2f58dc8b77d5f5d18028d7ae4a72dcfd8f468e81fe979ada957a8c361\n",
            "Model config DistilBertConfig {\n",
            "  \"activation\": \"gelu\",\n",
            "  \"architectures\": [\n",
            "    \"DistilBertForMaskedLM\"\n",
            "  ],\n",
            "  \"attention_dropout\": 0.1,\n",
            "  \"dim\": 768,\n",
            "  \"dropout\": 0.1,\n",
            "  \"hidden_dim\": 3072,\n",
            "  \"initializer_range\": 0.02,\n",
            "  \"max_position_embeddings\": 512,\n",
            "  \"model_type\": \"distilbert\",\n",
            "  \"n_heads\": 12,\n",
            "  \"n_layers\": 6,\n",
            "  \"pad_token_id\": 0,\n",
            "  \"qa_dropout\": 0.1,\n",
            "  \"seq_classif_dropout\": 0.2,\n",
            "  \"sinusoidal_pos_embds\": false,\n",
            "  \"tie_weights_\": true,\n",
            "  \"transformers_version\": \"4.9.2\",\n",
            "  \"vocab_size\": 30522\n",
            "}\n",
            "\n",
            "08/24/2021 05:06:22 - INFO - happytransformer.happy_transformer -   Using model: cuda\n"
          ],
          "name": "stderr"
        }
      ]
    },
    {
      "cell_type": "code",
      "metadata": {
        "id": "0PTDqZHBOGNh"
      },
      "source": [
        "import csv"
      ],
      "execution_count": 33,
      "outputs": []
    },
    {
      "cell_type": "code",
      "metadata": {
        "id": "VBXH0AOuNKlN"
      },
      "source": [
        "cases= [(\"Masterpice from the world-renowned architect Oscar Niemeyer, the museum run successive exhibits that cover a broad spectrum. The place itself and its unusual design deserves a visit. \", 0), \n",
        "        (\"My whole family really enjoyed the museum. The stunning architecture, the art collections, the coffee shop, all of it. :-) We will be back periodically to see new collections as they change. It's a wonderful place to spend a weekend afternoon, with kids or without. The coffee shop has great coffee and delicious desserts.\",0),\n",
        "        (\"This was one of the places that we went on the Petropolis tour.  We learned the history of Emperor Dom Pedro II as the founder of Petropolis.  One is not allowed to take pictures inside the museum.   Before you can tour the place, your personal stuff are put in a locker giving you the key afterwards.  Also, you have to wear over sized slippers to cover your shoes.  Be careful not to slide on the slippery floors.  You move from room to from like a duck or turtle worrying you might fall.  However, there are lot of history inside the  imperial palace like the family of Emperor Dom Pedro II,  the imperial crown, etc.\", 1),\n",
        "        (\"One of the most beautiful beach I've ever seen. If you are there in the morning (around 9) you nearly have the whole beach for your own. In the afternoon it gets 'crowed. The food is okey, but the staff very confioused and slowley.\",2),\n",
        "        (\"Get your guide or surf instructor to take you down to Jeribucacu, which is off the beaten track and takes a drive and then a 20 minute walk through the rainforest to get to, but it's well worth it. Praia da Tiririca is second best, with its perfect surf conditions and beach surrounded by rainforest.\",2)\n",
        "        ]\n"
      ],
      "execution_count": 35,
      "outputs": []
    },
    {
      "cell_type": "code",
      "metadata": {
        "id": "D6ErF9cTNh_n"
      },
      "source": [
        "with open(\"train.csv\", 'w', newline='') as csvfile:\n",
        "        writer = csv.writer(csvfile)\n",
        "        writer.writerow([\"text\", \"label\"])\n",
        "        for case in cases:\n",
        "            writer.writerow([case[0], case[1]])"
      ],
      "execution_count": 38,
      "outputs": []
    },
    {
      "cell_type": "code",
      "metadata": {
        "id": "gMvMjJF8mX8t",
        "colab": {
          "base_uri": "https://localhost:8080/"
        },
        "outputId": "c24b028d-7295-4d86-f4f1-a7023fafaef1"
      },
      "source": [
        "result = happy_tc.classify_text(\"Wow I love using BERT for text classification\")\n",
        "print(result)"
      ],
      "execution_count": null,
      "outputs": [
        {
          "output_type": "stream",
          "text": [
            "TextClassificationResult(label='LABEL_0', score=0.5396106839179993)\n"
          ],
          "name": "stdout"
        }
      ]
    },
    {
      "cell_type": "code",
      "metadata": {
        "id": "a5Xs28nkwfj6",
        "colab": {
          "base_uri": "https://localhost:8080/"
        },
        "outputId": "e9622d4f-5bf1-4e7d-e3e8-eec33c4ad3bd"
      },
      "source": [
        "result = happy_tc.classify_text(\"I hate NLP\")\n",
        "print(result)"
      ],
      "execution_count": null,
      "outputs": [
        {
          "output_type": "stream",
          "text": [
            "TextClassificationResult(label='LABEL_0', score=0.5575699806213379)\n"
          ],
          "name": "stdout"
        }
      ]
    },
    {
      "cell_type": "code",
      "metadata": {
        "id": "pAJNqBV5wfsc",
        "colab": {
          "base_uri": "https://localhost:8080/",
          "height": 313
        },
        "outputId": "d5512cb4-d72f-4cc1-a1de-9208eca45941"
      },
      "source": [
        "happy_tc.train(\"train.csv\")"
      ],
      "execution_count": 48,
      "outputs": [
        {
          "output_type": "stream",
          "text": [
            "08/24/2021 05:07:02 - INFO - happytransformer.happy_transformer -   Preprocessing dataset...\n",
            "PyTorch: setting up devices\n",
            "***** Running training *****\n",
            "  Num examples = 5\n",
            "  Num Epochs = 3\n",
            "  Instantaneous batch size per device = 1\n",
            "  Total train batch size (w. parallel, distributed & accumulation) = 1\n",
            "  Gradient Accumulation steps = 1\n",
            "  Total optimization steps = 15\n"
          ],
          "name": "stderr"
        },
        {
          "output_type": "display_data",
          "data": {
            "text/html": [
              "\n",
              "    <div>\n",
              "      \n",
              "      <progress value='15' max='15' style='width:300px; height:20px; vertical-align: middle;'></progress>\n",
              "      [15/15 00:01, Epoch 3/3]\n",
              "    </div>\n",
              "    <table border=\"1\" class=\"dataframe\">\n",
              "  <thead>\n",
              "    <tr style=\"text-align: left;\">\n",
              "      <th>Step</th>\n",
              "      <th>Training Loss</th>\n",
              "    </tr>\n",
              "  </thead>\n",
              "  <tbody>\n",
              "  </tbody>\n",
              "</table><p>"
            ],
            "text/plain": [
              "<IPython.core.display.HTML object>"
            ]
          },
          "metadata": {}
        },
        {
          "output_type": "stream",
          "text": [
            "\n",
            "\n",
            "Training completed. Do not forget to share your model on huggingface.co/models =)\n",
            "\n",
            "\n"
          ],
          "name": "stderr"
        }
      ]
    },
    {
      "cell_type": "code",
      "metadata": {
        "id": "OjSisHRqiakN",
        "outputId": "67ac1783-c291-46d4-a33f-ea90ea141901",
        "colab": {
          "base_uri": "https://localhost:8080/"
        }
      },
      "source": [
        "happy_tc.classify_text(\"The place itself and its unusual design deserves a visit.\")"
      ],
      "execution_count": 49,
      "outputs": [
        {
          "output_type": "execute_result",
          "data": {
            "text/plain": [
              "TextClassificationResult(label='LABEL_2', score=0.4108608663082123)"
            ]
          },
          "metadata": {},
          "execution_count": 49
        }
      ]
    },
    {
      "cell_type": "markdown",
      "metadata": {
        "id": "ygLk5O8stYQY"
      },
      "source": [
        "### Learning Paramters "
      ]
    },
    {
      "cell_type": "markdown",
      "metadata": {
        "id": "RJveOEFTti-e"
      },
      "source": [
        "https://happytransformer.com/text-classification/finetuning/"
      ]
    },
    {
      "cell_type": "code",
      "metadata": {
        "id": "RdSkytIewfvO"
      },
      "source": [
        "from happytransformer import TCTrainArgs\n"
      ],
      "execution_count": null,
      "outputs": []
    },
    {
      "cell_type": "code",
      "metadata": {
        "id": "qQj1cXNxuqAp"
      },
      "source": [
        "args = TCTrainArgs(num_train_epochs=5)"
      ],
      "execution_count": null,
      "outputs": []
    },
    {
      "cell_type": "code",
      "metadata": {
        "colab": {
          "base_uri": "https://localhost:8080/",
          "height": 91
        },
        "id": "gAtHt-qsuqDm",
        "outputId": "6b8b7e16-dd1f-4480-de71-585c0c14933b"
      },
      "source": [
        "happy_tc.train(\"train.csv\", args=args)"
      ],
      "execution_count": null,
      "outputs": [
        {
          "output_type": "stream",
          "text": [
            "06/18/2021 00:04:04 - INFO - happytransformer.happy_transformer -   Preprocessing dataset...\n"
          ],
          "name": "stderr"
        },
        {
          "output_type": "display_data",
          "data": {
            "text/html": [
              "\n",
              "    <div>\n",
              "      \n",
              "      <progress value='10' max='10' style='width:300px; height:20px; vertical-align: middle;'></progress>\n",
              "      [10/10 00:00, Epoch 5/5]\n",
              "    </div>\n",
              "    <table border=\"1\" class=\"dataframe\">\n",
              "  <thead>\n",
              "    <tr style=\"text-align: left;\">\n",
              "      <th>Step</th>\n",
              "      <th>Training Loss</th>\n",
              "    </tr>\n",
              "  </thead>\n",
              "  <tbody>\n",
              "  </tbody>\n",
              "</table><p>"
            ],
            "text/plain": [
              "<IPython.core.display.HTML object>"
            ]
          },
          "metadata": {
            "tags": []
          }
        }
      ]
    },
    {
      "cell_type": "markdown",
      "metadata": {
        "id": "24dM2geTvqSf"
      },
      "source": [
        "### Evaluating "
      ]
    },
    {
      "cell_type": "code",
      "metadata": {
        "colab": {
          "base_uri": "https://localhost:8080/",
          "height": 122
        },
        "id": "Gww8896zvptH",
        "outputId": "e65358c1-ebc5-49c0-fb2a-44331763e618"
      },
      "source": [
        "result = happy_tc.eval(\"train.csv\")"
      ],
      "execution_count": 40,
      "outputs": [
        {
          "output_type": "stream",
          "text": [
            "08/24/2021 05:01:40 - INFO - happytransformer.happy_transformer -   Preprocessing dataset...\n",
            "PyTorch: setting up devices\n",
            "***** Running Evaluation *****\n",
            "  Num examples = 5\n",
            "  Batch size = 1\n"
          ],
          "name": "stderr"
        },
        {
          "output_type": "display_data",
          "data": {
            "text/html": [
              "\n",
              "    <div>\n",
              "      \n",
              "      <progress value='5' max='5' style='width:300px; height:20px; vertical-align: middle;'></progress>\n",
              "      [5/5 00:00]\n",
              "    </div>\n",
              "    "
            ],
            "text/plain": [
              "<IPython.core.display.HTML object>"
            ]
          },
          "metadata": {}
        }
      ]
    },
    {
      "cell_type": "code",
      "metadata": {
        "colab": {
          "base_uri": "https://localhost:8080/"
        },
        "id": "kfGJe8uJvpxD",
        "outputId": "f5bdc217-ac63-42a6-b430-8a4275aeb71d"
      },
      "source": [
        "print(result.loss)"
      ],
      "execution_count": 41,
      "outputs": [
        {
          "output_type": "stream",
          "text": [
            "2.2711410522460938\n"
          ],
          "name": "stdout"
        }
      ]
    }
  ]
}