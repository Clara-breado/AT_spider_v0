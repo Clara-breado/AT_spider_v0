{
  "nbformat": 4,
  "nbformat_minor": 0,
  "metadata": {
    "colab": {
      "name": "review-name",
      "provenance": [],
      "authorship_tag": "ABX9TyOliUWiWBNxqjCu8fIURBGq",
      "include_colab_link": true
    },
    "kernelspec": {
      "name": "python3",
      "display_name": "Python 3"
    },
    "language_info": {
      "name": "python"
    },
    "accelerator": "GPU"
  },
  "cells": [
    {
      "cell_type": "markdown",
      "metadata": {
        "id": "view-in-github",
        "colab_type": "text"
      },
      "source": [
        "<a href=\"https://colab.research.google.com/github/Clara-breado/AT_spider_v0/blob/main/review_name.ipynb\" target=\"_parent\"><img src=\"https://colab.research.google.com/assets/colab-badge.svg\" alt=\"Open In Colab\"/></a>"
      ]
    },
    {
      "cell_type": "code",
      "metadata": {
        "id": "LFqBHEGEZOuY"
      },
      "source": [
        "import pandas as pd\n",
        "import numpy as np"
      ],
      "execution_count": 9,
      "outputs": []
    },
    {
      "cell_type": "code",
      "metadata": {
        "colab": {
          "base_uri": "https://localhost:8080/"
        },
        "id": "2zGLkDAMekxG",
        "outputId": "86513169-445a-4091-890f-605d8d7ffb80"
      },
      "source": [
        "!nvidia-smi"
      ],
      "execution_count": 1,
      "outputs": [
        {
          "output_type": "stream",
          "text": [
            "Thu Aug 19 08:15:06 2021       \n",
            "+-----------------------------------------------------------------------------+\n",
            "| NVIDIA-SMI 470.57.02    Driver Version: 460.32.03    CUDA Version: 11.2     |\n",
            "|-------------------------------+----------------------+----------------------+\n",
            "| GPU  Name        Persistence-M| Bus-Id        Disp.A | Volatile Uncorr. ECC |\n",
            "| Fan  Temp  Perf  Pwr:Usage/Cap|         Memory-Usage | GPU-Util  Compute M. |\n",
            "|                               |                      |               MIG M. |\n",
            "|===============================+======================+======================|\n",
            "|   0  Tesla K80           Off  | 00000000:00:04.0 Off |                    0 |\n",
            "| N/A   72C    P8    32W / 149W |      0MiB / 11441MiB |      0%      Default |\n",
            "|                               |                      |                  N/A |\n",
            "+-------------------------------+----------------------+----------------------+\n",
            "                                                                               \n",
            "+-----------------------------------------------------------------------------+\n",
            "| Processes:                                                                  |\n",
            "|  GPU   GI   CI        PID   Type   Process name                  GPU Memory |\n",
            "|        ID   ID                                                   Usage      |\n",
            "|=============================================================================|\n",
            "|  No running processes found                                                 |\n",
            "+-----------------------------------------------------------------------------+\n"
          ],
          "name": "stdout"
        }
      ]
    },
    {
      "cell_type": "code",
      "metadata": {
        "id": "s8hL5ooaeP5J"
      },
      "source": [
        "from torch import cuda\n",
        "device = 'cuda' if cuda.is_available() else 'cpu'"
      ],
      "execution_count": 2,
      "outputs": []
    },
    {
      "cell_type": "code",
      "metadata": {
        "colab": {
          "base_uri": "https://localhost:8080/",
          "height": 35
        },
        "id": "KcE8qztieqhe",
        "outputId": "173865af-1752-46b1-f509-5aeeab4b61e2"
      },
      "source": [
        "device"
      ],
      "execution_count": 3,
      "outputs": [
        {
          "output_type": "execute_result",
          "data": {
            "application/vnd.google.colaboratory.intrinsic+json": {
              "type": "string"
            },
            "text/plain": [
              "'cuda'"
            ]
          },
          "metadata": {},
          "execution_count": 3
        }
      ]
    },
    {
      "cell_type": "code",
      "metadata": {
        "colab": {
          "base_uri": "https://localhost:8080/"
        },
        "id": "85kH32ZNfPdJ",
        "outputId": "587d6bb1-ae1e-40de-b6d7-bd940bc4849b"
      },
      "source": [
        "pip install ktrain"
      ],
      "execution_count": 4,
      "outputs": [
        {
          "output_type": "stream",
          "text": [
            "Collecting ktrain\n",
            "  Downloading ktrain-0.27.2.tar.gz (25.3 MB)\n",
            "\u001b[K     |████████████████████████████████| 25.3 MB 92 kB/s \n",
            "\u001b[?25hCollecting scikit-learn==0.23.2\n",
            "  Downloading scikit_learn-0.23.2-cp37-cp37m-manylinux1_x86_64.whl (6.8 MB)\n",
            "\u001b[K     |████████████████████████████████| 6.8 MB 38.0 MB/s \n",
            "\u001b[?25hRequirement already satisfied: matplotlib>=3.0.0 in /usr/local/lib/python3.7/dist-packages (from ktrain) (3.2.2)\n",
            "Requirement already satisfied: pandas>=1.0.1 in /usr/local/lib/python3.7/dist-packages (from ktrain) (1.1.5)\n",
            "Requirement already satisfied: fastprogress>=0.1.21 in /usr/local/lib/python3.7/dist-packages (from ktrain) (1.0.0)\n",
            "Requirement already satisfied: requests in /usr/local/lib/python3.7/dist-packages (from ktrain) (2.23.0)\n",
            "Requirement already satisfied: joblib in /usr/local/lib/python3.7/dist-packages (from ktrain) (1.0.1)\n",
            "Requirement already satisfied: packaging in /usr/local/lib/python3.7/dist-packages (from ktrain) (21.0)\n",
            "Requirement already satisfied: ipython in /usr/local/lib/python3.7/dist-packages (from ktrain) (5.5.0)\n",
            "Collecting langdetect\n",
            "  Downloading langdetect-1.0.9.tar.gz (981 kB)\n",
            "\u001b[K     |████████████████████████████████| 981 kB 38.2 MB/s \n",
            "\u001b[?25hRequirement already satisfied: jieba in /usr/local/lib/python3.7/dist-packages (from ktrain) (0.42.1)\n",
            "Collecting cchardet\n",
            "  Downloading cchardet-2.1.7-cp37-cp37m-manylinux2010_x86_64.whl (263 kB)\n",
            "\u001b[K     |████████████████████████████████| 263 kB 44.0 MB/s \n",
            "\u001b[?25hRequirement already satisfied: chardet in /usr/local/lib/python3.7/dist-packages (from ktrain) (3.0.4)\n",
            "Collecting syntok\n",
            "  Downloading syntok-1.3.1.tar.gz (23 kB)\n",
            "Collecting seqeval==0.0.19\n",
            "  Downloading seqeval-0.0.19.tar.gz (30 kB)\n",
            "Collecting transformers<=4.3.3,>=4.0.0\n",
            "  Downloading transformers-4.3.3-py3-none-any.whl (1.9 MB)\n",
            "\u001b[K     |████████████████████████████████| 1.9 MB 40.5 MB/s \n",
            "\u001b[?25hCollecting sentencepiece\n",
            "  Downloading sentencepiece-0.1.96-cp37-cp37m-manylinux_2_17_x86_64.manylinux2014_x86_64.whl (1.2 MB)\n",
            "\u001b[K     |████████████████████████████████| 1.2 MB 39.7 MB/s \n",
            "\u001b[?25hCollecting keras_bert>=0.86.0\n",
            "  Downloading keras-bert-0.88.0.tar.gz (26 kB)\n",
            "Requirement already satisfied: networkx>=2.3 in /usr/local/lib/python3.7/dist-packages (from ktrain) (2.6.2)\n",
            "Collecting whoosh\n",
            "  Downloading Whoosh-2.7.4-py2.py3-none-any.whl (468 kB)\n",
            "\u001b[K     |████████████████████████████████| 468 kB 38.7 MB/s \n",
            "\u001b[?25hRequirement already satisfied: scipy>=0.19.1 in /usr/local/lib/python3.7/dist-packages (from scikit-learn==0.23.2->ktrain) (1.4.1)\n",
            "Collecting threadpoolctl>=2.0.0\n",
            "  Downloading threadpoolctl-2.2.0-py3-none-any.whl (12 kB)\n",
            "Requirement already satisfied: numpy>=1.13.3 in /usr/local/lib/python3.7/dist-packages (from scikit-learn==0.23.2->ktrain) (1.19.5)\n",
            "Requirement already satisfied: Keras>=2.2.4 in /usr/local/lib/python3.7/dist-packages (from seqeval==0.0.19->ktrain) (2.6.0)\n",
            "Collecting keras-transformer>=0.39.0\n",
            "  Downloading keras-transformer-0.39.0.tar.gz (11 kB)\n",
            "Collecting keras-pos-embd>=0.12.0\n",
            "  Downloading keras-pos-embd-0.12.0.tar.gz (6.0 kB)\n",
            "Collecting keras-multi-head>=0.28.0\n",
            "  Downloading keras-multi-head-0.28.0.tar.gz (14 kB)\n",
            "Collecting keras-layer-normalization>=0.15.0\n",
            "  Downloading keras-layer-normalization-0.15.0.tar.gz (4.2 kB)\n",
            "Collecting keras-position-wise-feed-forward>=0.7.0\n",
            "  Downloading keras-position-wise-feed-forward-0.7.0.tar.gz (4.5 kB)\n",
            "Collecting keras-embed-sim>=0.9.0\n",
            "  Downloading keras-embed-sim-0.9.0.tar.gz (4.1 kB)\n",
            "Collecting keras-self-attention>=0.50.0\n",
            "  Downloading keras-self-attention-0.50.0.tar.gz (12 kB)\n",
            "Requirement already satisfied: python-dateutil>=2.1 in /usr/local/lib/python3.7/dist-packages (from matplotlib>=3.0.0->ktrain) (2.8.2)\n",
            "Requirement already satisfied: pyparsing!=2.0.4,!=2.1.2,!=2.1.6,>=2.0.1 in /usr/local/lib/python3.7/dist-packages (from matplotlib>=3.0.0->ktrain) (2.4.7)\n",
            "Requirement already satisfied: kiwisolver>=1.0.1 in /usr/local/lib/python3.7/dist-packages (from matplotlib>=3.0.0->ktrain) (1.3.1)\n",
            "Requirement already satisfied: cycler>=0.10 in /usr/local/lib/python3.7/dist-packages (from matplotlib>=3.0.0->ktrain) (0.10.0)\n",
            "Requirement already satisfied: six in /usr/local/lib/python3.7/dist-packages (from cycler>=0.10->matplotlib>=3.0.0->ktrain) (1.15.0)\n",
            "Requirement already satisfied: pytz>=2017.2 in /usr/local/lib/python3.7/dist-packages (from pandas>=1.0.1->ktrain) (2018.9)\n",
            "Requirement already satisfied: filelock in /usr/local/lib/python3.7/dist-packages (from transformers<=4.3.3,>=4.0.0->ktrain) (3.0.12)\n",
            "Requirement already satisfied: importlib-metadata in /usr/local/lib/python3.7/dist-packages (from transformers<=4.3.3,>=4.0.0->ktrain) (4.6.4)\n",
            "Collecting tokenizers<0.11,>=0.10.1\n",
            "  Downloading tokenizers-0.10.3-cp37-cp37m-manylinux_2_5_x86_64.manylinux1_x86_64.manylinux_2_12_x86_64.manylinux2010_x86_64.whl (3.3 MB)\n",
            "\u001b[K     |████████████████████████████████| 3.3 MB 31.3 MB/s \n",
            "\u001b[?25hCollecting sacremoses\n",
            "  Downloading sacremoses-0.0.45-py3-none-any.whl (895 kB)\n",
            "\u001b[K     |████████████████████████████████| 895 kB 34.7 MB/s \n",
            "\u001b[?25hRequirement already satisfied: regex!=2019.12.17 in /usr/local/lib/python3.7/dist-packages (from transformers<=4.3.3,>=4.0.0->ktrain) (2019.12.20)\n",
            "Requirement already satisfied: tqdm>=4.27 in /usr/local/lib/python3.7/dist-packages (from transformers<=4.3.3,>=4.0.0->ktrain) (4.62.0)\n",
            "Requirement already satisfied: zipp>=0.5 in /usr/local/lib/python3.7/dist-packages (from importlib-metadata->transformers<=4.3.3,>=4.0.0->ktrain) (3.5.0)\n",
            "Requirement already satisfied: typing-extensions>=3.6.4 in /usr/local/lib/python3.7/dist-packages (from importlib-metadata->transformers<=4.3.3,>=4.0.0->ktrain) (3.7.4.3)\n",
            "Requirement already satisfied: prompt-toolkit<2.0.0,>=1.0.4 in /usr/local/lib/python3.7/dist-packages (from ipython->ktrain) (1.0.18)\n",
            "Requirement already satisfied: setuptools>=18.5 in /usr/local/lib/python3.7/dist-packages (from ipython->ktrain) (57.4.0)\n",
            "Requirement already satisfied: pexpect in /usr/local/lib/python3.7/dist-packages (from ipython->ktrain) (4.8.0)\n",
            "Requirement already satisfied: pygments in /usr/local/lib/python3.7/dist-packages (from ipython->ktrain) (2.6.1)\n",
            "Requirement already satisfied: traitlets>=4.2 in /usr/local/lib/python3.7/dist-packages (from ipython->ktrain) (5.0.5)\n",
            "Requirement already satisfied: pickleshare in /usr/local/lib/python3.7/dist-packages (from ipython->ktrain) (0.7.5)\n",
            "Requirement already satisfied: decorator in /usr/local/lib/python3.7/dist-packages (from ipython->ktrain) (4.4.2)\n",
            "Requirement already satisfied: simplegeneric>0.8 in /usr/local/lib/python3.7/dist-packages (from ipython->ktrain) (0.8.1)\n",
            "Requirement already satisfied: wcwidth in /usr/local/lib/python3.7/dist-packages (from prompt-toolkit<2.0.0,>=1.0.4->ipython->ktrain) (0.2.5)\n",
            "Requirement already satisfied: ipython-genutils in /usr/local/lib/python3.7/dist-packages (from traitlets>=4.2->ipython->ktrain) (0.2.0)\n",
            "Requirement already satisfied: ptyprocess>=0.5 in /usr/local/lib/python3.7/dist-packages (from pexpect->ipython->ktrain) (0.7.0)\n",
            "Requirement already satisfied: certifi>=2017.4.17 in /usr/local/lib/python3.7/dist-packages (from requests->ktrain) (2021.5.30)\n",
            "Requirement already satisfied: idna<3,>=2.5 in /usr/local/lib/python3.7/dist-packages (from requests->ktrain) (2.10)\n",
            "Requirement already satisfied: urllib3!=1.25.0,!=1.25.1,<1.26,>=1.21.1 in /usr/local/lib/python3.7/dist-packages (from requests->ktrain) (1.24.3)\n",
            "Requirement already satisfied: click in /usr/local/lib/python3.7/dist-packages (from sacremoses->transformers<=4.3.3,>=4.0.0->ktrain) (7.1.2)\n",
            "Building wheels for collected packages: ktrain, seqeval, keras-bert, keras-transformer, keras-embed-sim, keras-layer-normalization, keras-multi-head, keras-pos-embd, keras-position-wise-feed-forward, keras-self-attention, langdetect, syntok\n",
            "  Building wheel for ktrain (setup.py) ... \u001b[?25l\u001b[?25hdone\n",
            "  Created wheel for ktrain: filename=ktrain-0.27.2-py3-none-any.whl size=25283088 sha256=d62e8bfc5c07c29452f235abbad1ea681f4cb0813af68cdd0db0a352d9e53590\n",
            "  Stored in directory: /root/.cache/pip/wheels/88/be/4a/971c83a380a40f12e877f643ca1b94dc65f528f94c88dbcff7\n",
            "  Building wheel for seqeval (setup.py) ... \u001b[?25l\u001b[?25hdone\n",
            "  Created wheel for seqeval: filename=seqeval-0.0.19-py3-none-any.whl size=9929 sha256=488edb78f323c49361cad32899692f6a4be7f4040bd819318d974d4c174873e6\n",
            "  Stored in directory: /root/.cache/pip/wheels/f5/ac/f1/4e13d7aff05c722d142b7d20a88ad63f9aab11b895411241a4\n",
            "  Building wheel for keras-bert (setup.py) ... \u001b[?25l\u001b[?25hdone\n",
            "  Created wheel for keras-bert: filename=keras_bert-0.88.0-py3-none-any.whl size=34204 sha256=6abfcba5bc150809148402ee874096663cb528cd877b834020146378d397b064\n",
            "  Stored in directory: /root/.cache/pip/wheels/a2/90/cd/c038f2366929a3a5e3414a303b673e10235e802d871d29a835\n",
            "  Building wheel for keras-transformer (setup.py) ... \u001b[?25l\u001b[?25hdone\n",
            "  Created wheel for keras-transformer: filename=keras_transformer-0.39.0-py3-none-any.whl size=12842 sha256=a3dcecc2f1e579d188dada6204d9c7687a654a1059f8f68521697b331ffd2ac9\n",
            "  Stored in directory: /root/.cache/pip/wheels/bc/01/e0/5a1a14bed6726f2ed73f7917d2d2c2d4081d2c88426dea07ce\n",
            "  Building wheel for keras-embed-sim (setup.py) ... \u001b[?25l\u001b[?25hdone\n",
            "  Created wheel for keras-embed-sim: filename=keras_embed_sim-0.9.0-py3-none-any.whl size=4504 sha256=468158cc1321cbcc8de0f7ae351098a99104fb05eb68fa32bdb9813ba9a1afb9\n",
            "  Stored in directory: /root/.cache/pip/wheels/a8/1e/d2/9bc15513dd2f8b9de3e628b3aa9d2de49e721deef6bbd1497e\n",
            "  Building wheel for keras-layer-normalization (setup.py) ... \u001b[?25l\u001b[?25hdone\n",
            "  Created wheel for keras-layer-normalization: filename=keras_layer_normalization-0.15.0-py3-none-any.whl size=5224 sha256=40780dea4ad7fe5c22822628d4baae338166d87efb8afd03091a94435824ec09\n",
            "  Stored in directory: /root/.cache/pip/wheels/4d/be/fe/55422f77ac11fe6ddcb471198038de8a26b5a4dd1557883c1e\n",
            "  Building wheel for keras-multi-head (setup.py) ... \u001b[?25l\u001b[?25hdone\n",
            "  Created wheel for keras-multi-head: filename=keras_multi_head-0.28.0-py3-none-any.whl size=15559 sha256=24af6904a7f6dc6a646a6f4b7d2a2dc3853aa017cbdf5b97c857958e8fc55995\n",
            "  Stored in directory: /root/.cache/pip/wheels/79/4a/ea/9503ab5a02201dfb8635ba2cc8f30844661623c684a5b44472\n",
            "  Building wheel for keras-pos-embd (setup.py) ... \u001b[?25l\u001b[?25hdone\n",
            "  Created wheel for keras-pos-embd: filename=keras_pos_embd-0.12.0-py3-none-any.whl size=7469 sha256=99e354bba1ae887e8d4d6f52cf627db413d92b6897b5444aaf62c39adc468664\n",
            "  Stored in directory: /root/.cache/pip/wheels/77/99/fd/dd98f4876c3ebbef7aab0dbfbd37bca41d7db37d3a28b2cb09\n",
            "  Building wheel for keras-position-wise-feed-forward (setup.py) ... \u001b[?25l\u001b[?25hdone\n",
            "  Created wheel for keras-position-wise-feed-forward: filename=keras_position_wise_feed_forward-0.7.0-py3-none-any.whl size=5541 sha256=faf6fbe15c8854d05aea859c9a4454f0c2ae9a70c26c9da59f30e016903e8bf2\n",
            "  Stored in directory: /root/.cache/pip/wheels/2d/12/02/1ad455c4f181cda1a4e60c5445855853d5c2ea91f942586a04\n",
            "  Building wheel for keras-self-attention (setup.py) ... \u001b[?25l\u001b[?25hdone\n",
            "  Created wheel for keras-self-attention: filename=keras_self_attention-0.50.0-py3-none-any.whl size=19414 sha256=49e1f717e1d91ad7bf3c623c42290e3db13c73819322ddb24a90876c2dd1acd7\n",
            "  Stored in directory: /root/.cache/pip/wheels/92/7a/a3/231bef5803298e7ec1815215bc0613239cb1e9c03c57b13c14\n",
            "  Building wheel for langdetect (setup.py) ... \u001b[?25l\u001b[?25hdone\n",
            "  Created wheel for langdetect: filename=langdetect-1.0.9-py3-none-any.whl size=993242 sha256=5cd2e1f39f061ebfa09dc957f7fc4eb621ceb3001149fddb13706907f1bcaf8f\n",
            "  Stored in directory: /root/.cache/pip/wheels/c5/96/8a/f90c59ed25d75e50a8c10a1b1c2d4c402e4dacfa87f3aff36a\n",
            "  Building wheel for syntok (setup.py) ... \u001b[?25l\u001b[?25hdone\n",
            "  Created wheel for syntok: filename=syntok-1.3.1-py3-none-any.whl size=20917 sha256=5503e1c7a69d3016535ede8eb3653aaaf4cb4eadd2baaf5f026917cc9e978703\n",
            "  Stored in directory: /root/.cache/pip/wheels/5e/c2/33/e5d7d8f2f8b0c391d76bf82b844c3151bf23a84d75d02b185f\n",
            "Successfully built ktrain seqeval keras-bert keras-transformer keras-embed-sim keras-layer-normalization keras-multi-head keras-pos-embd keras-position-wise-feed-forward keras-self-attention langdetect syntok\n",
            "Installing collected packages: keras-self-attention, keras-position-wise-feed-forward, keras-pos-embd, keras-multi-head, keras-layer-normalization, keras-embed-sim, tokenizers, threadpoolctl, sacremoses, keras-transformer, whoosh, transformers, syntok, seqeval, sentencepiece, scikit-learn, langdetect, keras-bert, cchardet, ktrain\n",
            "  Attempting uninstall: scikit-learn\n",
            "    Found existing installation: scikit-learn 0.22.2.post1\n",
            "    Uninstalling scikit-learn-0.22.2.post1:\n",
            "      Successfully uninstalled scikit-learn-0.22.2.post1\n",
            "Successfully installed cchardet-2.1.7 keras-bert-0.88.0 keras-embed-sim-0.9.0 keras-layer-normalization-0.15.0 keras-multi-head-0.28.0 keras-pos-embd-0.12.0 keras-position-wise-feed-forward-0.7.0 keras-self-attention-0.50.0 keras-transformer-0.39.0 ktrain-0.27.2 langdetect-1.0.9 sacremoses-0.0.45 scikit-learn-0.23.2 sentencepiece-0.1.96 seqeval-0.0.19 syntok-1.3.1 threadpoolctl-2.2.0 tokenizers-0.10.3 transformers-4.3.3 whoosh-2.7.4\n"
          ],
          "name": "stdout"
        }
      ]
    },
    {
      "cell_type": "code",
      "metadata": {
        "id": "kVTb7LlGfp9N"
      },
      "source": [
        "%reload_ext autoreload\n",
        "%autoreload 2\n",
        "%matplotlib inline\n",
        "import os\n",
        "os.environ['CUDA_DEVICE_ORDER']='PCI_BUS_ID';\n",
        "os.environ['CUDA_VISIBLE_DEVICES']='0';"
      ],
      "execution_count": 6,
      "outputs": []
    },
    {
      "cell_type": "code",
      "metadata": {
        "id": "uU3lnaaugG6y"
      },
      "source": [
        "import ktrain\n",
        "from ktrain import text\n",
        "from sklearn.datasets import fetch_20newsgroups"
      ],
      "execution_count": 7,
      "outputs": []
    },
    {
      "cell_type": "code",
      "metadata": {
        "id": "j_SX0c6ag7Le"
      },
      "source": [
        "df = pd.DataFrame()\n",
        "df = pd.read_csv('test.csv')"
      ],
      "execution_count": 140,
      "outputs": []
    },
    {
      "cell_type": "code",
      "metadata": {
        "colab": {
          "base_uri": "https://localhost:8080/"
        },
        "id": "EGUaZh8fhXO6",
        "outputId": "257e4931-525d-4bde-d111-235cd6912df0"
      },
      "source": [
        "df['output'].describe()"
      ],
      "execution_count": 141,
      "outputs": [
        {
          "output_type": "execute_result",
          "data": {
            "text/plain": [
              "count                8999\n",
              "unique                135\n",
              "top       Paulista Avenue\n",
              "freq                 1270\n",
              "Name: output, dtype: object"
            ]
          },
          "metadata": {},
          "execution_count": 141
        }
      ]
    },
    {
      "cell_type": "code",
      "metadata": {
        "colab": {
          "base_uri": "https://localhost:8080/"
        },
        "id": "wLs-7qUVhqp5",
        "outputId": "ddf6c408-d66a-4e3c-cd0b-5976e396eb54"
      },
      "source": [
        "len(df['output'].unique())"
      ],
      "execution_count": 142,
      "outputs": [
        {
          "output_type": "execute_result",
          "data": {
            "text/plain": [
              "135"
            ]
          },
          "metadata": {},
          "execution_count": 142
        }
      ]
    },
    {
      "cell_type": "code",
      "metadata": {
        "id": "b4ynWn7yiH9m"
      },
      "source": [
        "categories = list()"
      ],
      "execution_count": 143,
      "outputs": []
    },
    {
      "cell_type": "code",
      "metadata": {
        "id": "_1aZyKq8iKn9"
      },
      "source": [
        "categories = list(df['output'].unique())"
      ],
      "execution_count": 144,
      "outputs": []
    },
    {
      "cell_type": "code",
      "metadata": {
        "colab": {
          "base_uri": "https://localhost:8080/"
        },
        "id": "vlEl-IpYgXHJ",
        "outputId": "44482a16-3537-4859-ba1f-b84ce7ff6e02"
      },
      "source": [
        "len(categories)"
      ],
      "execution_count": 145,
      "outputs": [
        {
          "output_type": "execute_result",
          "data": {
            "text/plain": [
              "135"
            ]
          },
          "metadata": {},
          "execution_count": 145
        }
      ]
    },
    {
      "cell_type": "code",
      "metadata": {
        "colab": {
          "base_uri": "https://localhost:8080/"
        },
        "id": "c91NYCAYjkYS",
        "outputId": "95a04ec0-05ac-412d-9213-a0a03916d4fd"
      },
      "source": [
        "type(train.target)"
      ],
      "execution_count": 49,
      "outputs": [
        {
          "output_type": "execute_result",
          "data": {
            "text/plain": [
              "numpy.ndarray"
            ]
          },
          "metadata": {},
          "execution_count": 49
        }
      ]
    },
    {
      "cell_type": "code",
      "metadata": {
        "colab": {
          "base_uri": "https://localhost:8080/"
        },
        "id": "CIVBWLHvlTVw",
        "outputId": "8fa1c543-f00c-4d54-d37b-01a5faa09e0d"
      },
      "source": [
        "type(train.data)"
      ],
      "execution_count": 50,
      "outputs": [
        {
          "output_type": "execute_result",
          "data": {
            "text/plain": [
              "list"
            ]
          },
          "metadata": {},
          "execution_count": 50
        }
      ]
    },
    {
      "cell_type": "code",
      "metadata": {
        "id": "pgxSTG-7lh7N"
      },
      "source": [
        "s = pd.Series(df['output'], dtype=\"category\")"
      ],
      "execution_count": 146,
      "outputs": []
    },
    {
      "cell_type": "code",
      "metadata": {
        "colab": {
          "base_uri": "https://localhost:8080/"
        },
        "id": "dvgPdTnhm8I8",
        "outputId": "59bb13e0-0f5c-43a8-e243-2777ddfc0259"
      },
      "source": [
        "s"
      ],
      "execution_count": 147,
      "outputs": [
        {
          "output_type": "execute_result",
          "data": {
            "text/plain": [
              "0                   Praia do Rosa\n",
              "1                   Praia do Rosa\n",
              "2                   Praia do Rosa\n",
              "3                   Praia do Rosa\n",
              "4                   Praia do Rosa\n",
              "                  ...            \n",
              "8994    Itaipava Arena Fonte Nova\n",
              "8995    Itaipava Arena Fonte Nova\n",
              "8996    Itaipava Arena Fonte Nova\n",
              "8997    Itaipava Arena Fonte Nova\n",
              "8998    Itaipava Arena Fonte Nova\n",
              "Name: output, Length: 8999, dtype: category\n",
              "Categories (135, object): ['Allianz Parque', 'Antunes Beach', 'Asturias Beach', 'Aurora Winery', ...,\n",
              "                           'Vila de Porto de Galinhas Beach', 'Vinicola Goes', 'Zoo Pomerode', 'diRoma Acqua Park']"
            ]
          },
          "metadata": {},
          "execution_count": 147
        }
      ]
    },
    {
      "cell_type": "code",
      "metadata": {
        "id": "8cwTB7FMm-wL"
      },
      "source": [
        "s.cat.categories = [\"%d\" % idx for idx in range(135)]"
      ],
      "execution_count": 149,
      "outputs": []
    },
    {
      "cell_type": "code",
      "metadata": {
        "colab": {
          "base_uri": "https://localhost:8080/"
        },
        "id": "BHATR6uOnMcC",
        "outputId": "b9227368-7e7c-45d9-a8e7-363b355925a1"
      },
      "source": [
        "type(s)"
      ],
      "execution_count": 61,
      "outputs": [
        {
          "output_type": "execute_result",
          "data": {
            "text/plain": [
              "pandas.core.series.Series"
            ]
          },
          "metadata": {},
          "execution_count": 61
        }
      ]
    },
    {
      "cell_type": "code",
      "metadata": {
        "id": "bCYdjNbTndav"
      },
      "source": [
        "df['target'] = s"
      ],
      "execution_count": 150,
      "outputs": []
    },
    {
      "cell_type": "code",
      "metadata": {
        "colab": {
          "base_uri": "https://localhost:8080/"
        },
        "id": "h_MTrGiEngE3",
        "outputId": "77f54045-b090-43df-ea38-7da4f33fc1ef"
      },
      "source": [
        "df['target'].describe()"
      ],
      "execution_count": 151,
      "outputs": [
        {
          "output_type": "execute_result",
          "data": {
            "text/plain": [
              "count     8999\n",
              "unique     135\n",
              "top         88\n",
              "freq      1270\n",
              "Name: target, dtype: object"
            ]
          },
          "metadata": {},
          "execution_count": 151
        }
      ]
    },
    {
      "cell_type": "code",
      "metadata": {
        "id": "w0uRnQt4rBZR"
      },
      "source": [
        "from sklearn.model_selection import train_test_split\n",
        "train, test = train_test_split(df, test_size=0.4)"
      ],
      "execution_count": 168,
      "outputs": []
    },
    {
      "cell_type": "code",
      "metadata": {
        "colab": {
          "base_uri": "https://localhost:8080/"
        },
        "id": "51up9iQ5wgCK",
        "outputId": "a16d2d53-dbb4-443e-e03e-d9076da7ef44"
      },
      "source": [
        "test.target.unique()"
      ],
      "execution_count": 169,
      "outputs": [
        {
          "output_type": "execute_result",
          "data": {
            "text/plain": [
              "['88', '123', '69', '5', '63', ..., '32', '115', '120', '101', '73']\n",
              "Length: 135\n",
              "Categories (135, object): ['88', '123', '69', '5', ..., '115', '120', '101', '73']"
            ]
          },
          "metadata": {},
          "execution_count": 169
        }
      ]
    },
    {
      "cell_type": "code",
      "metadata": {
        "colab": {
          "base_uri": "https://localhost:8080/",
          "height": 419
        },
        "id": "YxWQadfOwaIi",
        "outputId": "77cc46cf-942b-4c0a-8b18-6560c559c46f"
      },
      "source": [
        "train"
      ],
      "execution_count": 170,
      "outputs": [
        {
          "output_type": "execute_result",
          "data": {
            "text/html": [
              "<div>\n",
              "<style scoped>\n",
              "    .dataframe tbody tr th:only-of-type {\n",
              "        vertical-align: middle;\n",
              "    }\n",
              "\n",
              "    .dataframe tbody tr th {\n",
              "        vertical-align: top;\n",
              "    }\n",
              "\n",
              "    .dataframe thead th {\n",
              "        text-align: right;\n",
              "    }\n",
              "</style>\n",
              "<table border=\"1\" class=\"dataframe\">\n",
              "  <thead>\n",
              "    <tr style=\"text-align: right;\">\n",
              "      <th></th>\n",
              "      <th>input</th>\n",
              "      <th>output</th>\n",
              "      <th>target</th>\n",
              "    </tr>\n",
              "  </thead>\n",
              "  <tbody>\n",
              "    <tr>\n",
              "      <th>6266</th>\n",
              "      <td>This church is curious. Nice and small inside ...</td>\n",
              "      <td>Igreja de Nosso Senhor do Bonfim</td>\n",
              "      <td>43</td>\n",
              "    </tr>\n",
              "    <tr>\n",
              "      <th>1401</th>\n",
              "      <td>Very large Water Park that pleases old and you...</td>\n",
              "      <td>diRoma Acqua Park</td>\n",
              "      <td>134</td>\n",
              "    </tr>\n",
              "    <tr>\n",
              "      <th>665</th>\n",
              "      <td>Best beach in itacare. Itâ€™s very special in ...</td>\n",
              "      <td>Itacarezinho Beach</td>\n",
              "      <td>46</td>\n",
              "    </tr>\n",
              "    <tr>\n",
              "      <th>1541</th>\n",
              "      <td>Great beach, sand is top notch.  Watch out for...</td>\n",
              "      <td>Baia do Sancho</td>\n",
              "      <td>5</td>\n",
              "    </tr>\n",
              "    <tr>\n",
              "      <th>1726</th>\n",
              "      <td>The park's location is really good. It has a n...</td>\n",
              "      <td>Parque Pedra da Cebola</td>\n",
              "      <td>85</td>\n",
              "    </tr>\n",
              "    <tr>\n",
              "      <th>...</th>\n",
              "      <td>...</td>\n",
              "      <td>...</td>\n",
              "      <td>...</td>\n",
              "    </tr>\n",
              "    <tr>\n",
              "      <th>5483</th>\n",
              "      <td>You should totally go for a run in this park! ...</td>\n",
              "      <td>Parque Barigui</td>\n",
              "      <td>79</td>\n",
              "    </tr>\n",
              "    <tr>\n",
              "      <th>6958</th>\n",
              "      <td>i visit the pinacoteca do estado quite frequen...</td>\n",
              "      <td>Pinacoteca do Estado de SÃ£o Paulo</td>\n",
              "      <td>92</td>\n",
              "    </tr>\n",
              "    <tr>\n",
              "      <th>8940</th>\n",
              "      <td>Excellent beach wit endless miles of beach wal...</td>\n",
              "      <td>Praia de Canoa Quebrada</td>\n",
              "      <td>104</td>\n",
              "    </tr>\n",
              "    <tr>\n",
              "      <th>2961</th>\n",
              "      <td>I had no idea this avenue was so large! On Sun...</td>\n",
              "      <td>Paulista Avenue</td>\n",
              "      <td>88</td>\n",
              "    </tr>\n",
              "    <tr>\n",
              "      <th>726</th>\n",
              "      <td>Being a beach person myself I found this lagoo...</td>\n",
              "      <td>Lagoa do ParaÃ­so</td>\n",
              "      <td>55</td>\n",
              "    </tr>\n",
              "  </tbody>\n",
              "</table>\n",
              "<p>5399 rows × 3 columns</p>\n",
              "</div>"
            ],
            "text/plain": [
              "                                                  input  ... target\n",
              "6266  This church is curious. Nice and small inside ...  ...     43\n",
              "1401  Very large Water Park that pleases old and you...  ...    134\n",
              "665   Best beach in itacare. Itâ€™s very special in ...  ...     46\n",
              "1541  Great beach, sand is top notch.  Watch out for...  ...      5\n",
              "1726  The park's location is really good. It has a n...  ...     85\n",
              "...                                                 ...  ...    ...\n",
              "5483  You should totally go for a run in this park! ...  ...     79\n",
              "6958  i visit the pinacoteca do estado quite frequen...  ...     92\n",
              "8940  Excellent beach wit endless miles of beach wal...  ...    104\n",
              "2961  I had no idea this avenue was so large! On Sun...  ...     88\n",
              "726   Being a beach person myself I found this lagoo...  ...     55\n",
              "\n",
              "[5399 rows x 3 columns]"
            ]
          },
          "metadata": {},
          "execution_count": 170
        }
      ]
    },
    {
      "cell_type": "code",
      "metadata": {
        "id": "ycE2rPTMrHo_"
      },
      "source": [
        "X_train = train.input\n",
        "X_test = test.input\n",
        "\n",
        "Y_train = train.target\n",
        "Y_test = test.target"
      ],
      "execution_count": 171,
      "outputs": []
    },
    {
      "cell_type": "code",
      "metadata": {
        "id": "OlUaNRv1rXz-"
      },
      "source": [
        "X_train = X_train.tolist()\n",
        "X_test = X_test.tolist()"
      ],
      "execution_count": 172,
      "outputs": []
    },
    {
      "cell_type": "code",
      "metadata": {
        "id": "JqJxmX0urdkl"
      },
      "source": [
        "Y_train = Y_train.to_numpy()\n",
        "Y_test = Y_test.to_numpy()"
      ],
      "execution_count": 173,
      "outputs": []
    },
    {
      "cell_type": "code",
      "metadata": {
        "id": "Ix8FvhvXtJ4_"
      },
      "source": [
        "MODEL_NAME = 'distilbert-base-uncased'\n",
        "\n",
        "trans = text.Transformer(MODEL_NAME, maxlen=512, class_names=categories)\n",
        "#a little bit confused about the class_names"
      ],
      "execution_count": 174,
      "outputs": []
    },
    {
      "cell_type": "code",
      "metadata": {
        "colab": {
          "base_uri": "https://localhost:8080/",
          "height": 170
        },
        "id": "Fj66rGOzuYn2",
        "outputId": "878c995a-a372-4857-8ac9-80d0dd2d15aa"
      },
      "source": [
        "train_data = trans.preprocess_train(X_train,Y_train)"
      ],
      "execution_count": 175,
      "outputs": [
        {
          "output_type": "stream",
          "text": [
            "preprocessing train...\n",
            "language: en\n",
            "train sequence lengths:\n",
            "\tmean : 60\n",
            "\t95percentile : 151\n",
            "\t99percentile : 266\n"
          ],
          "name": "stdout"
        },
        {
          "output_type": "stream",
          "text": [
            "/usr/local/lib/python3.7/dist-packages/ktrain/utils.py:600: UserWarning: class_names argument was ignored, as they were extracted from string labels in dataset\n",
            "  if self.get_classes(): warnings.warn('class_names argument was ignored, as they were extracted from string labels in dataset')\n"
          ],
          "name": "stderr"
        },
        {
          "output_type": "display_data",
          "data": {
            "text/html": [
              ""
            ],
            "text/plain": [
              "<IPython.core.display.HTML object>"
            ]
          },
          "metadata": {}
        },
        {
          "output_type": "stream",
          "text": [
            "Is Multi-Label? False\n"
          ],
          "name": "stdout"
        }
      ]
    },
    {
      "cell_type": "code",
      "metadata": {
        "colab": {
          "base_uri": "https://localhost:8080/",
          "height": 119
        },
        "id": "jT4e0qfqvu-t",
        "outputId": "18e13396-058e-4696-9fb7-cc78cc700599"
      },
      "source": [
        "test_data = trans.preprocess_test(X_test,Y_test)"
      ],
      "execution_count": 176,
      "outputs": [
        {
          "output_type": "stream",
          "text": [
            "preprocessing test...\n",
            "language: en\n",
            "test sequence lengths:\n",
            "\tmean : 64\n",
            "\t95percentile : 155\n",
            "\t99percentile : 324\n"
          ],
          "name": "stdout"
        },
        {
          "output_type": "display_data",
          "data": {
            "text/html": [
              ""
            ],
            "text/plain": [
              "<IPython.core.display.HTML object>"
            ]
          },
          "metadata": {}
        }
      ]
    },
    {
      "cell_type": "markdown",
      "metadata": {
        "id": "Q2X9Mw4Ww8X4"
      },
      "source": [
        "# make sure that all test value contains in train value"
      ]
    },
    {
      "cell_type": "code",
      "metadata": {
        "id": "6REusACwuqdN"
      },
      "source": [
        "model = trans.get_classifier()"
      ],
      "execution_count": 177,
      "outputs": []
    },
    {
      "cell_type": "code",
      "metadata": {
        "id": "Elq5bpD_xFqY"
      },
      "source": [
        "learner = ktrain.get_learner(model, train_data=train_data, val_data=test_data, batch_size=16)"
      ],
      "execution_count": 178,
      "outputs": []
    },
    {
      "cell_type": "code",
      "metadata": {
        "colab": {
          "base_uri": "https://localhost:8080/"
        },
        "id": "ExrmaNvmxVkh",
        "outputId": "67a97be6-eaea-4e9b-c81c-7f353a402ab7"
      },
      "source": [
        "# learner.lr_find(show_plot=True, max_epochs=3)"
      ],
      "execution_count": 122,
      "outputs": [
        {
          "output_type": "stream",
          "text": [
            "simulating training for different learning rates... this may take a few moments...\n",
            "Epoch 1/3\n",
            "  23/2302 [..............................] - ETA: 1:06:27 - loss: 5.6032 - accuracy: 0.0000e+00"
          ],
          "name": "stdout"
        }
      ]
    },
    {
      "cell_type": "code",
      "metadata": {
        "colab": {
          "base_uri": "https://localhost:8080/"
        },
        "id": "1xhsQ4UbxnSF",
        "outputId": "a36fd403-e6fd-4d7a-a6ec-801f30e531f1"
      },
      "source": [
        "learner.fit_onecycle(1e-4,1)"
      ],
      "execution_count": 179,
      "outputs": [
        {
          "output_type": "stream",
          "text": [
            "\n",
            "\n",
            "begin training using onecycle policy with max lr of 0.0001...\n",
            "338/338 [==============================] - 728s 2s/step - loss: 3.0764 - accuracy: 0.3614 - val_loss: 2.1708 - val_accuracy: 0.5019\n"
          ],
          "name": "stdout"
        },
        {
          "output_type": "execute_result",
          "data": {
            "text/plain": [
              "<keras.callbacks.History at 0x7ff2a09b7a90>"
            ]
          },
          "metadata": {},
          "execution_count": 179
        }
      ]
    },
    {
      "cell_type": "code",
      "metadata": {
        "id": "cfIXJ65vQwcX"
      },
      "source": [
        "learner.save_model('smallTestModel')"
      ],
      "execution_count": 182,
      "outputs": []
    },
    {
      "cell_type": "code",
      "metadata": {
        "colab": {
          "base_uri": "https://localhost:8080/"
        },
        "id": "Y-xTeFMExyWc",
        "outputId": "4669e2f4-ced8-4241-f86c-5d213cd6af71"
      },
      "source": [
        "learner.validate(class_names=categories)"
      ],
      "execution_count": 180,
      "outputs": [
        {
          "output_type": "stream",
          "text": [
            "                                             precision    recall  f1-score   support\n",
            "\n",
            "                              Praia do Rosa       0.48      0.39      0.43        31\n",
            "                      Praia Dos Milionarios       0.00      0.00      0.00         6\n",
            "                               Zoo Pomerode       0.00      0.00      0.00        37\n",
            "                           Jeribucacu Beach       0.00      0.00      0.00         5\n",
            "                            Praia Do Bonete       0.00      0.00      0.00         3\n",
            "                       Igreja Sao Francisco       0.00      0.00      0.00         5\n",
            "                      Guarda do Embau Beach       0.00      0.00      0.00         4\n",
            "                            Cristo Redentor       0.00      0.00      0.00        27\n",
            "                       Museu Oscar Niemeyer       0.00      0.00      0.00        56\n",
            "                              Juquehy Beach       0.00      0.00      0.00         6\n",
            "                          Itacoatiara Beach       0.00      0.00      0.00         7\n",
            "                        Domingas Dias Beach       0.00      0.00      0.00         7\n",
            "                         Itacarezinho Beach       0.00      0.00      0.00        32\n",
            "                            Cataguas Island       0.00      0.00      0.00         3\n",
            "                          Lagoa do ParaÃ­so       0.00      0.00      0.00        17\n",
            "                 Parque Estadual do Caracol       0.00      0.00      0.00        39\n",
            "                              Vinicola Goes       0.00      0.00      0.00        11\n",
            "                       Casa do Rio Vermelho       0.00      0.00      0.00         7\n",
            "                            Imperial Museum       0.00      0.00      0.00         6\n",
            "                              Camburi Beach       0.00      0.00      0.00         2\n",
            "                          Vale dos Vinhedos       0.00      0.00      0.00        19\n",
            "                      Projeto Tamar Vitoria       0.34      0.35      0.35        34\n",
            "                                Forno Beach       0.00      0.00      0.00         3\n",
            "                     Saco do Mamangua Beach       0.00      0.00      0.00        14\n",
            "                             Recife de Fora       0.00      0.00      0.00        19\n",
            "                            Orla de Atalaia       0.00      0.00      0.00         1\n",
            "                            Muro Alto Beach       0.00      0.00      0.00         6\n",
            "              Prainhas do Pontal do Atalaia       0.00      0.00      0.00         5\n",
            "     Piscinas Naturais de Porto de Galinhas       0.40      0.93      0.56       117\n",
            "                              Coffee Museum       0.00      0.00      0.00         1\n",
            "                          diRoma Acqua Park       0.00      0.00      0.00         1\n",
            "                              Antunes Beach       0.00      0.00      0.00         6\n",
            "                             Baia do Sancho       0.00      0.00      0.00         6\n",
            "                     Parque Pedra da Cebola       0.00      0.00      0.00         4\n",
            "                            Paulista Avenue       0.00      0.00      0.00        10\n",
            "                               Torres Beach       0.00      0.00      0.00         3\n",
            "                          Estacao das Docas       0.00      0.00      0.00         4\n",
            "    DragÃ£o do Mar Centro de Arte e Cultura       0.00      0.00      0.00        48\n",
            "                       Fazenda do Chocolate       0.00      0.00      0.00         7\n",
            "                      Sao Pellegrino Church       0.00      0.00      0.00         9\n",
            "                         Praia De Maracaipe       0.00      0.00      0.00         4\n",
            "                 Tiradentes Historic Center       0.00      0.00      0.00         6\n",
            "                             Joaquina Beach       0.00      0.00      0.00         5\n",
            "                    Metropolitana Cathedral       0.00      0.00      0.00         2\n",
            "                              Mundo a Vapor       0.00      0.00      0.00         2\n",
            "                       Praia Farol da Barra       0.00      0.00      0.00        10\n",
            "                 Feira de Arte e Artesanato       0.00      0.00      0.00         7\n",
            "                      Praia De Quatro Ilhas       0.00      0.00      0.00         6\n",
            "                 Eco Parque Arraial d'Ajuda       0.00      0.00      0.00        15\n",
            "           Pernambuco e do Mar Casado Beach       0.56      0.80      0.65        44\n",
            "                                Vale da Lua       0.89      0.33      0.48        24\n",
            "                             Praia do Forte       0.00      0.00      0.00         2\n",
            "               Mercado Central de Fortaleza       0.00      0.00      0.00        10\n",
            "                               Quarta Praia       0.00      0.00      0.00         2\n",
            "                               Curral Beach       0.00      0.00      0.00         6\n",
            "                           Praia de Cumbuco       0.00      0.00      0.00        13\n",
            "                                Canto Beach       0.00      0.00      0.00         7\n",
            "                                Brava Beach       0.44      0.45      0.44        60\n",
            " Santuario Nossa Senhora Desatadora Dos Nos       0.00      0.00      0.00         9\n",
            "                           Praia das Fontes       0.15      0.15      0.15        27\n",
            "   Parque Nacional da Chapada dos Veadeiros       0.00      0.00      0.00        17\n",
            "                         Cervejaria Bohemia       0.00      0.00      0.00         4\n",
            "                        Estrada Da Graciosa       0.00      0.00      0.00        11\n",
            "                                Farol Beach       0.00      0.00      0.00        31\n",
            "            Vila de Porto de Galinhas Beach       0.00      0.00      0.00         4\n",
            "                                 Pico Agudo       0.00      0.00      0.00         8\n",
            "                                 Picaozinho       0.00      0.00      0.00        18\n",
            "              Parque Estadual de Vila Velha       0.00      0.00      0.00        17\n",
            "                             Asturias Beach       0.00      0.00      0.00        12\n",
            "                                 Paraty Bay       0.00      0.00      0.00         4\n",
            "                                Bessa Beach       0.00      0.00      0.00         3\n",
            "                           Museu do Futebol       0.00      0.00      0.00        13\n",
            "                                 Lagoa Azul       0.00      0.00      0.00         3\n",
            "                             Allianz Parque       0.63      0.13      0.21        94\n",
            "                           Parque da Cidade       0.00      0.00      0.00        26\n",
            "                                Morro Beach       0.55      0.87      0.67        70\n",
            "                            Vaca Brava Park       0.00      0.00      0.00        20\n",
            "  Parque Nacional dos LenÃ§Ã³is Maranhenses       0.00      0.00      0.00        50\n",
            "                        Moinho Povos Unidos       0.00      0.00      0.00        15\n",
            "                          Gales de Maragogi       0.00      0.00      0.00         4\n",
            "                        Pontal de Maracaipe       0.13      0.85      0.23       133\n",
            "                             Parque Barigui       0.00      0.00      0.00         6\n",
            "                             Ferrugem Beach       0.00      0.00      0.00        13\n",
            "         ParÃ³quia Nossa Senhora de Lourdes       0.00      0.00      0.00        19\n",
            "                               Juliao Beach       0.00      0.00      0.00        23\n",
            "                                    Boipeba       0.00      0.00      0.00        24\n",
            "                           Praia do Espelho       0.00      0.00      0.00        37\n",
            "                             Maresias Beach       0.76      0.87      0.81       134\n",
            "National Sanctuary of Our Lady of Aparecida       0.00      0.00      0.00        14\n",
            "    Caverna Aroe-Jari e Gruta da Lagoa Azul       0.00      0.00      0.00        10\n",
            "                          Salto do Itiquira       0.00      0.00      0.00        11\n",
            "                            Praia das Dunas       0.00      0.00      0.00         9\n",
            "          Praia de SÃ£o Miguel dos Milagres       0.00      0.00      0.00         7\n",
            "                             Cachaca Museum       0.00      0.00      0.00        20\n",
            "                  Linha TurÃ­stica de Bonde       0.00      0.00      0.00        11\n",
            "                          Praia de Calhetas       0.00      0.00      0.00         9\n",
            "                          Sao Goncalo Beach       0.00      0.00      0.00        15\n",
            "                               Baleia Beach       0.00      0.00      0.00         6\n",
            "                                  Liberdade       0.00      0.00      0.00         2\n",
            "                              Parque Malwee       0.00      0.00      0.00         5\n",
            "                               Monte Serrat       0.00      0.00      0.00        18\n",
            "           Igreja de Nosso Senhor do Bonfim       0.81      0.94      0.87       389\n",
            "         Basilica of Nossa Senhora do Pilar       0.00      0.00      0.00        24\n",
            "                         Santuario Vagafogo       0.00      0.00      0.00        26\n",
            "                          Aventureiro Beach       0.50      0.26      0.34       127\n",
            "                             Opera de Arame       0.90      0.93      0.92       208\n",
            "                                 Cupe beach       0.00      0.00      0.00         2\n",
            "                    Feira do Largo da Ordem       0.00      0.00      0.00         7\n",
            "       Memorial da Epopeia do Descobrimento       0.00      0.00      0.00         7\n",
            "                              Praia Guarita       0.00      0.00      0.00         5\n",
            "                            Morro do Moreno       0.00      0.00      0.00        35\n",
            "         Pinacoteca do Estado de SÃ£o Paulo       0.00      0.00      0.00         1\n",
            "                             Meireles Beach       0.39      0.58      0.47        31\n",
            "                            Morro da Igreja       0.00      0.00      0.00         3\n",
            "                        Catarata dos Couros       0.00      0.00      0.00         8\n",
            "                    Igreja de Santo Antonio       0.17      0.81      0.27        31\n",
            "                    Praia do Porto da Barra       0.00      0.00      0.00         3\n",
            "                                   Hot Park       0.00      0.00      0.00        21\n",
            "                 Parque Aldeia do Imigrante       0.28      0.70      0.40        56\n",
            "                              Aurora Winery       0.00      0.00      0.00         7\n",
            "       Fo Guang Shan Brazil - Zu Lai Temple       1.00      0.11      0.19        28\n",
            "             Recanto Ecologico Rio da Prata       0.00      0.00      0.00         4\n",
            "                            Jardim Botanico       0.75      0.97      0.85       501\n",
            "                 Centro Historico de Olinda       0.00      0.00      0.00         6\n",
            "                        Praia de Pernambuco       0.00      0.00      0.00         5\n",
            "                                   Quadrado       0.00      0.00      0.00         3\n",
            "                           Fortaleza Canyon       0.00      0.00      0.00         6\n",
            "                           Praia de Tambaba       0.53      0.90      0.67       145\n",
            "                   Outlet Premium Sao Paulo       0.00      0.00      0.00         5\n",
            "              Municipal Market of Sao Paulo       0.00      0.00      0.00         2\n",
            "           Sao Francisco Church and Convent       0.00      0.00      0.00        10\n",
            "                        Castelo de Itaipava       0.00      0.00      0.00         7\n",
            "                    Praia de Canoa Quebrada       0.00      0.00      0.00         5\n",
            "                         Casa do Papai Noel       0.00      0.00      0.00         5\n",
            "                  Itaipava Arena Fonte Nova       0.00      0.00      0.00        38\n",
            "\n",
            "                                   accuracy                           0.50      3600\n",
            "                                  macro avg       0.08      0.09      0.07      3600\n",
            "                               weighted avg       0.40      0.50      0.42      3600\n",
            "\n"
          ],
          "name": "stdout"
        },
        {
          "output_type": "stream",
          "text": [
            "/usr/local/lib/python3.7/dist-packages/sklearn/metrics/_classification.py:1221: UndefinedMetricWarning: Precision and F-score are ill-defined and being set to 0.0 in labels with no predicted samples. Use `zero_division` parameter to control this behavior.\n",
            "  _warn_prf(average, modifier, msg_start, len(result))\n"
          ],
          "name": "stderr"
        },
        {
          "output_type": "execute_result",
          "data": {
            "text/plain": [
              "array([[12,  0,  0, ...,  0,  0,  0],\n",
              "       [ 0,  0,  0, ...,  0,  0,  0],\n",
              "       [ 0,  0,  0, ...,  0,  0,  0],\n",
              "       ...,\n",
              "       [ 0,  0,  0, ...,  0,  0,  0],\n",
              "       [ 0,  0,  0, ...,  0,  0,  0],\n",
              "       [ 0,  0,  0, ...,  0,  0,  0]])"
            ]
          },
          "metadata": {},
          "execution_count": 180
        }
      ]
    },
    {
      "cell_type": "code",
      "metadata": {
        "colab": {
          "base_uri": "https://localhost:8080/"
        },
        "id": "Gl8vCe5PUpb4",
        "outputId": "52cf5769-5edf-4471-a887-7713721800aa"
      },
      "source": [
        "learner.view_top_losses(n=5, preproc=trans)"
      ],
      "execution_count": 183,
      "outputs": [
        {
          "output_type": "stream",
          "text": [
            "----------\n",
            "id:3350 | loss:9.26 | true:63 | pred:88)\n",
            "\n",
            "----------\n",
            "id:2085 | loss:9.26 | true:14 | pred:88)\n",
            "\n",
            "----------\n",
            "id:3012 | loss:9.01 | true:14 | pred:56)\n",
            "\n",
            "----------\n",
            "id:1909 | loss:8.7 | true:14 | pred:69)\n",
            "\n",
            "----------\n",
            "id:1490 | loss:8.68 | true:59 | pred:88)\n",
            "\n"
          ],
          "name": "stdout"
        }
      ]
    },
    {
      "cell_type": "code",
      "metadata": {
        "colab": {
          "base_uri": "https://localhost:8080/",
          "height": 52
        },
        "id": "hwS6n0w2VXe5",
        "outputId": "792d4104-3e87-4edf-f4e0-3023b231595a"
      },
      "source": [
        "X_test[3350]"
      ],
      "execution_count": 184,
      "outputs": [
        {
          "output_type": "execute_result",
          "data": {
            "application/vnd.google.colaboratory.intrinsic+json": {
              "type": "string"
            },
            "text/plain": [
              "'Visited during the weekdays, when it is not opened for internal visits. Anyways the plaza and the construction are beautiful and there are free parking places in front of it. They city could add other minors attractions and things to be seem on this location to make a better use of the room they have in this plaza.'"
            ]
          },
          "metadata": {},
          "execution_count": 184
        }
      ]
    },
    {
      "cell_type": "code",
      "metadata": {
        "id": "yjgJcYg-M6xz"
      },
      "source": [
        "predictor = ktrain.get_predictor(learner.model, preproc=trans)"
      ],
      "execution_count": 185,
      "outputs": []
    },
    {
      "cell_type": "code",
      "metadata": {
        "colab": {
          "base_uri": "https://localhost:8080/",
          "height": 35
        },
        "id": "th8rxP3fN1Wy",
        "outputId": "8abb702f-942e-4573-b556-42241b230fba"
      },
      "source": [
        "x='I would love to go to a park with my family which located downtown'\n",
        "predictor.predict(x)"
      ],
      "execution_count": 186,
      "outputs": [
        {
          "output_type": "execute_result",
          "data": {
            "application/vnd.google.colaboratory.intrinsic+json": {
              "type": "string"
            },
            "text/plain": [
              "'88'"
            ]
          },
          "metadata": {},
          "execution_count": 186
        }
      ]
    },
    {
      "cell_type": "code",
      "metadata": {
        "id": "vp-wQFVQOER5"
      },
      "source": [
        ""
      ],
      "execution_count": null,
      "outputs": []
    }
  ]
}